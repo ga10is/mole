{
  "nbformat": 4,
  "nbformat_minor": 0,
  "metadata": {
    "colab": {
      "name": "molecular_eda.ipynb",
      "version": "0.3.2",
      "provenance": [],
      "collapsed_sections": [
        "N5-O_ZBgx9_c",
        "QeFSCN2HdEsB",
        "sbquLRyAT_3n"
      ]
    },
    "kernelspec": {
      "name": "python3",
      "display_name": "Python 3"
    }
  },
  "cells": [
    {
      "cell_type": "code",
      "metadata": {
        "id": "nv77yMfASqZe",
        "colab_type": "code",
        "outputId": "e8eff8b6-0806-41da-f973-28a298cb1ede",
        "colab": {
          "base_uri": "https://localhost:8080/",
          "height": 35
        }
      },
      "source": [
        "from google.colab import drive\n",
        "drive.mount('/gdrive')"
      ],
      "execution_count": 0,
      "outputs": [
        {
          "output_type": "stream",
          "text": [
            "Drive already mounted at /gdrive; to attempt to forcibly remount, call drive.mount(\"/gdrive\", force_remount=True).\n"
          ],
          "name": "stdout"
        }
      ]
    },
    {
      "cell_type": "code",
      "metadata": {
        "id": "lj2u-p5SUXfK",
        "colab_type": "code",
        "outputId": "0af57bb1-d02d-4237-9d44-6997790105ab",
        "colab": {
          "base_uri": "https://localhost:8080/",
          "height": 35
        }
      },
      "source": [
        "%cd \"/gdrive/My Drive\""
      ],
      "execution_count": 0,
      "outputs": [
        {
          "output_type": "stream",
          "text": [
            "/gdrive/My Drive\n"
          ],
          "name": "stdout"
        }
      ]
    },
    {
      "cell_type": "code",
      "metadata": {
        "id": "W8Gvswj5UsFI",
        "colab_type": "code",
        "colab": {}
      },
      "source": [
        "%matplotlib inline\n",
        "import matplotlib.pyplot as plt\n",
        "import numpy as np\n",
        "import pandas as pd\n",
        "import seaborn as sns\n",
        "\n",
        "from sklearn.base import clone\n",
        "from sklearn.model_selection import KFold\n",
        "from sklearn.preprocessing import LabelEncoder\n",
        "import lightgbm as lgb\n",
        "import math\n",
        "\n",
        "from tqdm import tqdm\n",
        "import joblib"
      ],
      "execution_count": 0,
      "outputs": []
    },
    {
      "cell_type": "markdown",
      "metadata": {
        "id": "NjtnTKbgUwe-",
        "colab_type": "text"
      },
      "source": [
        "## config"
      ]
    },
    {
      "cell_type": "code",
      "metadata": {
        "id": "IXjtnuLeUvDO",
        "colab_type": "code",
        "colab": {}
      },
      "source": [
        "INPUT = './analysis/mole/data/raw/'\n",
        "TRAIN_PATH = INPUT + 'train.csv'\n",
        "TEST_PATH = INPUT + 'test.csv'\n",
        "PREPROCESS = './analysis/mole/data/preprocess/'\n",
        "\n",
        "RUN_PLOT = False\n",
        "TARGET = 'scalar_coupling_constant'\n",
        "N_FOLDS = 4"
      ],
      "execution_count": 0,
      "outputs": []
    },
    {
      "cell_type": "markdown",
      "metadata": {
        "id": "N5-O_ZBgx9_c",
        "colab_type": "text"
      },
      "source": [
        "## logging"
      ]
    },
    {
      "cell_type": "code",
      "metadata": {
        "id": "f4XGnKwHx_zb",
        "colab_type": "code",
        "colab": {}
      },
      "source": [
        "import logging\n",
        "import logging.handlers\n",
        "\n",
        "\n",
        "def create_logger(log_file_name):\n",
        "    logger_ = logging.getLogger('main')\n",
        "    logger_.setLevel(logging.DEBUG)\n",
        "    fh = logging.handlers.RotatingFileHandler(\n",
        "        log_file_name, maxBytes=100000, backupCount=8)\n",
        "    fh.setLevel(logging.DEBUG)\n",
        "    ch = logging.StreamHandler()\n",
        "    ch.setLevel(logging.DEBUG)\n",
        "    formatter = logging.Formatter(\n",
        "        '[%(levelname)s]%(asctime)s:%(name)s:%(message)s')\n",
        "    fh.setFormatter(formatter)\n",
        "    ch.setFormatter(formatter)\n",
        "    # add the handlers to the logger\n",
        "    logger_.addHandler(fh)\n",
        "    logger_.addHandler(ch)\n",
        "\n",
        "\n",
        "def get_logger():\n",
        "    return logging.getLogger('main')"
      ],
      "execution_count": 0,
      "outputs": []
    },
    {
      "cell_type": "markdown",
      "metadata": {
        "id": "zl3VKDpaFzDp",
        "colab_type": "text"
      },
      "source": [
        "## util"
      ]
    },
    {
      "cell_type": "code",
      "metadata": {
        "id": "cQkBX79EFyRy",
        "colab_type": "code",
        "colab": {}
      },
      "source": [
        "def onehot(_df):\n",
        "    cat_names = [name for name, col in _df.iteritems() if col.dtype == 'O']\n",
        "    df_cat = pd.get_dummies(_df[cat_names])\n",
        "    _df = pd.concat([_df, df_cat], axis=1).drop(cat_names, axis=1)\n",
        "    return _df\n",
        "\n",
        "def label_encode(df):\n",
        "    cat_names = [name for name, col in df.iteritems() if col.dtype == 'O']    \n",
        "    for cat_name in cat_names:\n",
        "        print(cat_name)\n",
        "        le = LabelEncoder()\n",
        "        le.fit(df[cat_name].values)\n",
        "        df[cat_name] = le.transform(df[cat_name].values)\n",
        "    return df\n",
        "\n",
        "def reduce_mem_usage(df, verbose=True):\n",
        "    numerics = ['int16', 'int32', 'int64', 'float16', 'float32', 'float64']\n",
        "    start_mem = df.memory_usage().sum() / 1024**2    \n",
        "    for col in df.columns:\n",
        "        col_type = df[col].dtypes\n",
        "        if col_type in numerics:\n",
        "            c_min = df[col].min()\n",
        "            c_max = df[col].max()\n",
        "            if str(col_type)[:3] == 'int':\n",
        "                if c_min > np.iinfo(np.int8).min and c_max < np.iinfo(np.int8).max:\n",
        "                    df[col] = df[col].astype(np.int8)\n",
        "                elif c_min > np.iinfo(np.int16).min and c_max < np.iinfo(np.int16).max:\n",
        "                    df[col] = df[col].astype(np.int16)\n",
        "                elif c_min > np.iinfo(np.int32).min and c_max < np.iinfo(np.int32).max:\n",
        "                    df[col] = df[col].astype(np.int32)\n",
        "                elif c_min > np.iinfo(np.int64).min and c_max < np.iinfo(np.int64).max:\n",
        "                    df[col] = df[col].astype(np.int64)  \n",
        "            else:\n",
        "                if c_min > np.finfo(np.float16).min and c_max < np.finfo(np.float16).max:\n",
        "                    df[col] = df[col].astype(np.float16)\n",
        "                elif c_min > np.finfo(np.float32).min and c_max < np.finfo(np.float32).max:\n",
        "                    df[col] = df[col].astype(np.float32)\n",
        "                else:\n",
        "                    df[col] = df[col].astype(np.float64)    \n",
        "    end_mem = df.memory_usage().sum() / 1024**2\n",
        "    if verbose: \n",
        "        print('Mem. usage decreased to {:5.2f} Mb ({:.1f}% reduction)'.format(end_mem, 100 * (start_mem - end_mem) / start_mem))\n",
        "    \n",
        "    return df"
      ],
      "execution_count": 0,
      "outputs": []
    },
    {
      "cell_type": "code",
      "metadata": {
        "id": "DRl_TFCX2TMK",
        "colab_type": "code",
        "colab": {}
      },
      "source": [
        "def divide_type(df):    \n",
        "    df['type_0'] = df['type'].apply(lambda x: x[0]).astype(np.uint8)\n",
        "    df['type_1'] = df['type'].apply(lambda x: x[1:])\n",
        "    return df"
      ],
      "execution_count": 0,
      "outputs": []
    },
    {
      "cell_type": "code",
      "metadata": {
        "id": "uSucOMSZjOPs",
        "colab_type": "code",
        "colab": {}
      },
      "source": [
        "def map_atom_info(df, strct, atom_idx):\n",
        "    df = pd.merge(df, strct, how = 'left',\n",
        "                  left_on  = ['molecule_name', f'atom_index_{atom_idx}'],\n",
        "                  right_on = ['molecule_name',  'atom_index'])\n",
        "    \n",
        "    df = df.drop('atom_index', axis=1)\n",
        "    df = df.rename(columns={'atom': f'atom_{atom_idx}',\n",
        "                            'x': f'x_{atom_idx}',\n",
        "                            'y': f'y_{atom_idx}',\n",
        "                            'z': f'z_{atom_idx}'})\n",
        "    return df\n",
        "\n",
        "def calc_dist(df):\n",
        "    p_0 = df[['x_0', 'y_0', 'z_0']].values\n",
        "    p_1 = df[['x_1', 'y_1', 'z_1']].values\n",
        "\n",
        "    df['dist'] = np.linalg.norm(p_0 - p_1, axis=1)\n",
        "    df['dist_x'] = (df['x_0'] - df['x_1']) ** 2\n",
        "    df['dist_y'] = (df['y_0'] - df['y_1']) ** 2\n",
        "    df['dist_z'] = (df['z_0'] - df['z_1']) ** 2\n",
        "\n",
        "    return df"
      ],
      "execution_count": 0,
      "outputs": []
    },
    {
      "cell_type": "markdown",
      "metadata": {
        "id": "I9vXa9xZx4DD",
        "colab_type": "text"
      },
      "source": [
        "## EDA + Preprocess"
      ]
    },
    {
      "cell_type": "code",
      "metadata": {
        "id": "GdnLRF6DeJXO",
        "colab_type": "code",
        "colab": {}
      },
      "source": [
        "df_train = pd.read_csv(TRAIN_PATH)\n",
        "df_train = divide_type(df_train)"
      ],
      "execution_count": 0,
      "outputs": []
    },
    {
      "cell_type": "code",
      "metadata": {
        "id": "HidxQ6NQJpjm",
        "colab_type": "code",
        "outputId": "02bd9b2d-d00a-42ac-c70d-e883d57cea84",
        "colab": {
          "base_uri": "https://localhost:8080/",
          "height": 53
        }
      },
      "source": [
        "df_train['type'].unique()"
      ],
      "execution_count": 0,
      "outputs": [
        {
          "output_type": "execute_result",
          "data": {
            "text/plain": [
              "array(['1JHC', '2JHH', '1JHN', '2JHN', '2JHC', '3JHH', '3JHC', '3JHN'],\n",
              "      dtype=object)"
            ]
          },
          "metadata": {
            "tags": []
          },
          "execution_count": 9
        }
      ]
    },
    {
      "cell_type": "markdown",
      "metadata": {
        "id": "wRFPMn80J4mo",
        "colab_type": "text"
      },
      "source": [
        "Joint type:  \n",
        "1JHC, 1JHN, 2JHH, 2JHN, 3JHH, 3JHC, 3JHN"
      ]
    },
    {
      "cell_type": "code",
      "metadata": {
        "id": "dw82UAZ4eh5f",
        "colab_type": "code",
        "colab": {}
      },
      "source": [
        "if RUN_PLOT:\n",
        "    fig, ax  = plt.subplots(figsize=(10, 4))\n",
        "    plt.subplot(1, 2, 1)\n",
        "    sns.distplot(df_train[TARGET])\n",
        "\n",
        "    plt.subplot(1, 2, 2)\n",
        "    sns.boxplot(x='type', y=TARGET, data=df_train)"
      ],
      "execution_count": 0,
      "outputs": []
    },
    {
      "cell_type": "markdown",
      "metadata": {
        "id": "9SEjOer7e74V",
        "colab_type": "text"
      },
      "source": [
        "- target distribution is divided around 0 and 80.\n",
        "- predict target from type approximately.\n",
        "  (e.g. 2JHN is 0)\n",
        "\n",
        "- idea: clasify above 50 or under 50."
      ]
    },
    {
      "cell_type": "code",
      "metadata": {
        "id": "kmHgJLjaf-2Y",
        "colab_type": "code",
        "outputId": "afb8d7d4-6a83-4164-8685-aba998d70a98",
        "colab": {
          "base_uri": "https://localhost:8080/",
          "height": 355
        }
      },
      "source": [
        "df_strct = pd.read_csv(INPUT + 'structures.csv')\n",
        "df_strct.head(10)"
      ],
      "execution_count": 0,
      "outputs": [
        {
          "output_type": "execute_result",
          "data": {
            "text/html": [
              "<div>\n",
              "<style scoped>\n",
              "    .dataframe tbody tr th:only-of-type {\n",
              "        vertical-align: middle;\n",
              "    }\n",
              "\n",
              "    .dataframe tbody tr th {\n",
              "        vertical-align: top;\n",
              "    }\n",
              "\n",
              "    .dataframe thead th {\n",
              "        text-align: right;\n",
              "    }\n",
              "</style>\n",
              "<table border=\"1\" class=\"dataframe\">\n",
              "  <thead>\n",
              "    <tr style=\"text-align: right;\">\n",
              "      <th></th>\n",
              "      <th>molecule_name</th>\n",
              "      <th>atom_index</th>\n",
              "      <th>atom</th>\n",
              "      <th>x</th>\n",
              "      <th>y</th>\n",
              "      <th>z</th>\n",
              "    </tr>\n",
              "  </thead>\n",
              "  <tbody>\n",
              "    <tr>\n",
              "      <th>0</th>\n",
              "      <td>dsgdb9nsd_000001</td>\n",
              "      <td>0</td>\n",
              "      <td>C</td>\n",
              "      <td>-0.012698</td>\n",
              "      <td>1.085804</td>\n",
              "      <td>0.008001</td>\n",
              "    </tr>\n",
              "    <tr>\n",
              "      <th>1</th>\n",
              "      <td>dsgdb9nsd_000001</td>\n",
              "      <td>1</td>\n",
              "      <td>H</td>\n",
              "      <td>0.002150</td>\n",
              "      <td>-0.006031</td>\n",
              "      <td>0.001976</td>\n",
              "    </tr>\n",
              "    <tr>\n",
              "      <th>2</th>\n",
              "      <td>dsgdb9nsd_000001</td>\n",
              "      <td>2</td>\n",
              "      <td>H</td>\n",
              "      <td>1.011731</td>\n",
              "      <td>1.463751</td>\n",
              "      <td>0.000277</td>\n",
              "    </tr>\n",
              "    <tr>\n",
              "      <th>3</th>\n",
              "      <td>dsgdb9nsd_000001</td>\n",
              "      <td>3</td>\n",
              "      <td>H</td>\n",
              "      <td>-0.540815</td>\n",
              "      <td>1.447527</td>\n",
              "      <td>-0.876644</td>\n",
              "    </tr>\n",
              "    <tr>\n",
              "      <th>4</th>\n",
              "      <td>dsgdb9nsd_000001</td>\n",
              "      <td>4</td>\n",
              "      <td>H</td>\n",
              "      <td>-0.523814</td>\n",
              "      <td>1.437933</td>\n",
              "      <td>0.906397</td>\n",
              "    </tr>\n",
              "    <tr>\n",
              "      <th>5</th>\n",
              "      <td>dsgdb9nsd_000002</td>\n",
              "      <td>0</td>\n",
              "      <td>N</td>\n",
              "      <td>-0.040426</td>\n",
              "      <td>1.024108</td>\n",
              "      <td>0.062564</td>\n",
              "    </tr>\n",
              "    <tr>\n",
              "      <th>6</th>\n",
              "      <td>dsgdb9nsd_000002</td>\n",
              "      <td>1</td>\n",
              "      <td>H</td>\n",
              "      <td>0.017257</td>\n",
              "      <td>0.012545</td>\n",
              "      <td>-0.027377</td>\n",
              "    </tr>\n",
              "    <tr>\n",
              "      <th>7</th>\n",
              "      <td>dsgdb9nsd_000002</td>\n",
              "      <td>2</td>\n",
              "      <td>H</td>\n",
              "      <td>0.915789</td>\n",
              "      <td>1.358745</td>\n",
              "      <td>-0.028758</td>\n",
              "    </tr>\n",
              "    <tr>\n",
              "      <th>8</th>\n",
              "      <td>dsgdb9nsd_000002</td>\n",
              "      <td>3</td>\n",
              "      <td>H</td>\n",
              "      <td>-0.520278</td>\n",
              "      <td>1.343532</td>\n",
              "      <td>-0.775543</td>\n",
              "    </tr>\n",
              "    <tr>\n",
              "      <th>9</th>\n",
              "      <td>dsgdb9nsd_000003</td>\n",
              "      <td>0</td>\n",
              "      <td>O</td>\n",
              "      <td>-0.034360</td>\n",
              "      <td>0.977540</td>\n",
              "      <td>0.007602</td>\n",
              "    </tr>\n",
              "  </tbody>\n",
              "</table>\n",
              "</div>"
            ],
            "text/plain": [
              "      molecule_name  atom_index atom         x         y         z\n",
              "0  dsgdb9nsd_000001           0    C -0.012698  1.085804  0.008001\n",
              "1  dsgdb9nsd_000001           1    H  0.002150 -0.006031  0.001976\n",
              "2  dsgdb9nsd_000001           2    H  1.011731  1.463751  0.000277\n",
              "3  dsgdb9nsd_000001           3    H -0.540815  1.447527 -0.876644\n",
              "4  dsgdb9nsd_000001           4    H -0.523814  1.437933  0.906397\n",
              "5  dsgdb9nsd_000002           0    N -0.040426  1.024108  0.062564\n",
              "6  dsgdb9nsd_000002           1    H  0.017257  0.012545 -0.027377\n",
              "7  dsgdb9nsd_000002           2    H  0.915789  1.358745 -0.028758\n",
              "8  dsgdb9nsd_000002           3    H -0.520278  1.343532 -0.775543\n",
              "9  dsgdb9nsd_000003           0    O -0.034360  0.977540  0.007602"
            ]
          },
          "metadata": {
            "tags": []
          },
          "execution_count": 20
        }
      ]
    },
    {
      "cell_type": "code",
      "metadata": {
        "id": "4ZnaN7Qjhgt7",
        "colab_type": "code",
        "colab": {}
      },
      "source": [
        "# the number of molecules\n",
        "len(df_strct['molecule_name'].unique())"
      ],
      "execution_count": 0,
      "outputs": []
    },
    {
      "cell_type": "code",
      "metadata": {
        "id": "zbbz_lzdidul",
        "colab_type": "code",
        "colab": {}
      },
      "source": [
        "# max of the number of atoms in a molecule\n",
        "df_strct['atom_index'].max()"
      ],
      "execution_count": 0,
      "outputs": []
    },
    {
      "cell_type": "code",
      "metadata": {
        "id": "uhbEze2Gqc1Y",
        "colab_type": "code",
        "colab": {}
      },
      "source": [
        "# df_train = map_atom_info(df_train, df_strct, 0)\n",
        "# df_train = map_atom_info(df_train, df_strct, 1)\n",
        "# df_train = calc_dist(df_train)"
      ],
      "execution_count": 0,
      "outputs": []
    },
    {
      "cell_type": "code",
      "metadata": {
        "id": "exByPLQc3gqw",
        "colab_type": "code",
        "colab": {}
      },
      "source": [
        "if RUN_PLOT:\n",
        "    fig, ax  = plt.subplots(figsize=(10, 4))\n",
        "    plt.subplot(1, 2, 1)\n",
        "    sns.distplot(df_train['dist'])\n",
        "\n",
        "    plt.subplot(1, 2, 2)\n",
        "    sns.boxplot(x='type', y='dist', data=df_train)"
      ],
      "execution_count": 0,
      "outputs": []
    },
    {
      "cell_type": "markdown",
      "metadata": {
        "id": "GiuMK7v74Lh9",
        "colab_type": "text"
      },
      "source": [
        "- Angle feature: https://www.kaggle.com/kmat2019/effective-feature\n",
        "- bonds: https://www.kaggle.com/asauve/dataset-with-number-of-bonds-between-atoms"
      ]
    },
    {
      "cell_type": "code",
      "metadata": {
        "id": "6BNswp_LKaRe",
        "colab_type": "code",
        "colab": {}
      },
      "source": [
        "if RUN_PLOT:\n",
        "    fig, ax  = plt.subplots(figsize=(15, 4))\n",
        "    count_type = df_train.groupby(by='type')['id'].count().reset_index()\n",
        "    plt.subplot(1, 2, 1)\n",
        "    sns.barplot(data=count_type, x='type', y='id')\n",
        "\n",
        "    df_test = pd.read_csv(TEST_PATH)\n",
        "    count_type = df_test.groupby(by='type')['id'].count().reset_index()\n",
        "    plt.subplot(1, 2, 2)\n",
        "    sns.barplot(data=count_type, x='type', y='id')"
      ],
      "execution_count": 0,
      "outputs": []
    },
    {
      "cell_type": "code",
      "metadata": {
        "id": "4LkQz4A_psUi",
        "colab_type": "code",
        "colab": {}
      },
      "source": [
        "# draw 1J\n",
        "fig, ax  = plt.subplots(figsize=(15, 4))\n",
        "print('drawing 1JHC')\n",
        "plt.subplot(1, 3, 1)\n",
        "sns.distplot(df_train[df_train['type']=='1JHC'][TARGET])\n",
        "text = plt.title('1JHC')\n",
        "\n",
        "print('drawing 1JHN')\n",
        "plt.subplot(1, 3, 2)\n",
        "sns.distplot(df_train[df_train['type']=='1JHN'][TARGET])\n",
        "text = plt.title('1JHN')\n",
        "\n",
        "# draw 2J\n",
        "fig, ax  = plt.subplots(figsize=(15, 4))\n",
        "print('drawing 2JHC')\n",
        "plt.subplot(1, 3, 1)\n",
        "sns.distplot(df_train[df_train['type']=='2JHC'][TARGET])\n",
        "text = plt.title('2JHC')\n",
        "\n",
        "print('drawing 2JHH')\n",
        "plt.subplot(1, 3, 2)\n",
        "sns.distplot(df_train[df_train['type']=='2JHH'][TARGET])\n",
        "text = plt.title('2JHH')\n",
        "\n",
        "print('drawing 2JHN')\n",
        "plt.subplot(1, 3, 3)\n",
        "sns.distplot(df_train[df_train['type']=='2JHN'][TARGET])\n",
        "text = plt.title('2JHN')\n",
        "\n",
        "# draw 3J\n",
        "fig, ax  = plt.subplots(figsize=(15, 4))\n",
        "print('drawing 3JHC')\n",
        "plt.subplot(1, 3, 1)\n",
        "sns.distplot(df_train[df_train['type']=='3JHC'][TARGET])\n",
        "text = plt.title('3JHC')\n",
        "\n",
        "print('drawing 3JHH')\n",
        "plt.subplot(1, 3, 2)\n",
        "sns.distplot(df_train[df_train['type']=='3JHH'][TARGET])\n",
        "text = plt.title('3JHH')\n",
        "\n",
        "print('drawing 3JHN')\n",
        "plt.subplot(1, 3, 3)\n",
        "sns.distplot(df_train[df_train['type']=='3JHN'][TARGET])\n",
        "text = plt.title('3JHN')"
      ],
      "execution_count": 0,
      "outputs": []
    },
    {
      "cell_type": "code",
      "metadata": {
        "id": "XC-nuIUjl8wO",
        "colab_type": "code",
        "colab": {}
      },
      "source": [
        "# df_scc = pd.read_csv(INPUT + 'scalar_coupling_contributions.csv')\n",
        "# df_scc.head()"
      ],
      "execution_count": 0,
      "outputs": []
    },
    {
      "cell_type": "code",
      "metadata": {
        "id": "iOKiZYZ20Y2p",
        "colab_type": "code",
        "colab": {}
      },
      "source": [
        "def plot_scc(df, type_name):\n",
        "    tmp = df[df['type'] == type_name]\n",
        "    \n",
        "    fig, ax = plt.subplots(figsize=(20, 4))\n",
        "    \n",
        "    print('plotting fc')\n",
        "    plt.subplot(1, 4, 1)\n",
        "    sns.distplot(tmp['fc'])\n",
        "    text = plt.title(type_name)\n",
        "    \n",
        "    print('plotting sd')\n",
        "    plt.subplot(1, 4, 2)\n",
        "    sns.distplot(tmp['sd'])\n",
        "    \n",
        "    print('plotting pso')\n",
        "    plt.subplot(1, 4, 3)\n",
        "    sns.distplot(tmp['pso'])\n",
        "    \n",
        "    print('plotting dso')\n",
        "    plt.subplot(1, 4, 4)\n",
        "    sns.distplot(tmp['dso'])\n",
        "\n",
        "def plot_all_scc(df):\n",
        "    coupling_types = df['type'].unique()\n",
        "    \n",
        "    for coupling_type in coupling_types:\n",
        "        plot_scc(df, coupling_type)            \n",
        "\n",
        "if RUN_PLOT:\n",
        "    plot_all_scc(df_scc)"
      ],
      "execution_count": 0,
      "outputs": []
    },
    {
      "cell_type": "markdown",
      "metadata": {
        "id": "QeFSCN2HdEsB",
        "colab_type": "text"
      },
      "source": [
        "## calculate angel"
      ]
    },
    {
      "cell_type": "code",
      "metadata": {
        "id": "zDSYmjavbsVO",
        "colab_type": "code",
        "colab": {}
      },
      "source": [
        "# merge train and test set\n",
        "df_train = pd.read_csv(TRAIN_PATH)\n",
        "df_test = pd.read_csv(TEST_PATH)"
      ],
      "execution_count": 0,
      "outputs": []
    },
    {
      "cell_type": "code",
      "metadata": {
        "id": "vNtkSXbhb2Wc",
        "colab_type": "code",
        "outputId": "86a710fa-a079-4bc1-f3b0-8be0beb985ef",
        "colab": {
          "base_uri": "https://localhost:8080/",
          "height": 531
        }
      },
      "source": [
        "df_all = pd.concat([df_train, df_test], axis=0, ignore_index=True)\n",
        "df_all = df_all[df_train.columns]\n",
        "df_all = divide_type(df_all)\n",
        "display(df_all.head())\n",
        "display(df_all.tail())"
      ],
      "execution_count": 0,
      "outputs": [
        {
          "output_type": "stream",
          "text": [
            "/usr/local/lib/python3.6/dist-packages/ipykernel_launcher.py:1: FutureWarning: Sorting because non-concatenation axis is not aligned. A future version\n",
            "of pandas will change to not sort by default.\n",
            "\n",
            "To accept the future behavior, pass 'sort=False'.\n",
            "\n",
            "To retain the current behavior and silence the warning, pass 'sort=True'.\n",
            "\n",
            "  \"\"\"Entry point for launching an IPython kernel.\n"
          ],
          "name": "stderr"
        },
        {
          "output_type": "display_data",
          "data": {
            "text/html": [
              "<div>\n",
              "<style scoped>\n",
              "    .dataframe tbody tr th:only-of-type {\n",
              "        vertical-align: middle;\n",
              "    }\n",
              "\n",
              "    .dataframe tbody tr th {\n",
              "        vertical-align: top;\n",
              "    }\n",
              "\n",
              "    .dataframe thead th {\n",
              "        text-align: right;\n",
              "    }\n",
              "</style>\n",
              "<table border=\"1\" class=\"dataframe\">\n",
              "  <thead>\n",
              "    <tr style=\"text-align: right;\">\n",
              "      <th></th>\n",
              "      <th>id</th>\n",
              "      <th>molecule_name</th>\n",
              "      <th>atom_index_0</th>\n",
              "      <th>atom_index_1</th>\n",
              "      <th>type</th>\n",
              "      <th>scalar_coupling_constant</th>\n",
              "      <th>type_0</th>\n",
              "      <th>type_1</th>\n",
              "    </tr>\n",
              "  </thead>\n",
              "  <tbody>\n",
              "    <tr>\n",
              "      <th>0</th>\n",
              "      <td>0</td>\n",
              "      <td>dsgdb9nsd_000001</td>\n",
              "      <td>1</td>\n",
              "      <td>0</td>\n",
              "      <td>1JHC</td>\n",
              "      <td>84.8076</td>\n",
              "      <td>1</td>\n",
              "      <td>JHC</td>\n",
              "    </tr>\n",
              "    <tr>\n",
              "      <th>1</th>\n",
              "      <td>1</td>\n",
              "      <td>dsgdb9nsd_000001</td>\n",
              "      <td>1</td>\n",
              "      <td>2</td>\n",
              "      <td>2JHH</td>\n",
              "      <td>-11.2570</td>\n",
              "      <td>2</td>\n",
              "      <td>JHH</td>\n",
              "    </tr>\n",
              "    <tr>\n",
              "      <th>2</th>\n",
              "      <td>2</td>\n",
              "      <td>dsgdb9nsd_000001</td>\n",
              "      <td>1</td>\n",
              "      <td>3</td>\n",
              "      <td>2JHH</td>\n",
              "      <td>-11.2548</td>\n",
              "      <td>2</td>\n",
              "      <td>JHH</td>\n",
              "    </tr>\n",
              "    <tr>\n",
              "      <th>3</th>\n",
              "      <td>3</td>\n",
              "      <td>dsgdb9nsd_000001</td>\n",
              "      <td>1</td>\n",
              "      <td>4</td>\n",
              "      <td>2JHH</td>\n",
              "      <td>-11.2543</td>\n",
              "      <td>2</td>\n",
              "      <td>JHH</td>\n",
              "    </tr>\n",
              "    <tr>\n",
              "      <th>4</th>\n",
              "      <td>4</td>\n",
              "      <td>dsgdb9nsd_000001</td>\n",
              "      <td>2</td>\n",
              "      <td>0</td>\n",
              "      <td>1JHC</td>\n",
              "      <td>84.8074</td>\n",
              "      <td>1</td>\n",
              "      <td>JHC</td>\n",
              "    </tr>\n",
              "  </tbody>\n",
              "</table>\n",
              "</div>"
            ],
            "text/plain": [
              "   id     molecule_name  atom_index_0  ...  scalar_coupling_constant type_0  type_1\n",
              "0   0  dsgdb9nsd_000001             1  ...                   84.8076      1     JHC\n",
              "1   1  dsgdb9nsd_000001             1  ...                  -11.2570      2     JHH\n",
              "2   2  dsgdb9nsd_000001             1  ...                  -11.2548      2     JHH\n",
              "3   3  dsgdb9nsd_000001             1  ...                  -11.2543      2     JHH\n",
              "4   4  dsgdb9nsd_000001             2  ...                   84.8074      1     JHC\n",
              "\n",
              "[5 rows x 8 columns]"
            ]
          },
          "metadata": {
            "tags": []
          }
        },
        {
          "output_type": "display_data",
          "data": {
            "text/html": [
              "<div>\n",
              "<style scoped>\n",
              "    .dataframe tbody tr th:only-of-type {\n",
              "        vertical-align: middle;\n",
              "    }\n",
              "\n",
              "    .dataframe tbody tr th {\n",
              "        vertical-align: top;\n",
              "    }\n",
              "\n",
              "    .dataframe thead th {\n",
              "        text-align: right;\n",
              "    }\n",
              "</style>\n",
              "<table border=\"1\" class=\"dataframe\">\n",
              "  <thead>\n",
              "    <tr style=\"text-align: right;\">\n",
              "      <th></th>\n",
              "      <th>id</th>\n",
              "      <th>molecule_name</th>\n",
              "      <th>atom_index_0</th>\n",
              "      <th>atom_index_1</th>\n",
              "      <th>type</th>\n",
              "      <th>scalar_coupling_constant</th>\n",
              "      <th>type_0</th>\n",
              "      <th>type_1</th>\n",
              "    </tr>\n",
              "  </thead>\n",
              "  <tbody>\n",
              "    <tr>\n",
              "      <th>7163684</th>\n",
              "      <td>7163684</td>\n",
              "      <td>dsgdb9nsd_133885</td>\n",
              "      <td>15</td>\n",
              "      <td>3</td>\n",
              "      <td>2JHC</td>\n",
              "      <td>NaN</td>\n",
              "      <td>2</td>\n",
              "      <td>JHC</td>\n",
              "    </tr>\n",
              "    <tr>\n",
              "      <th>7163685</th>\n",
              "      <td>7163685</td>\n",
              "      <td>dsgdb9nsd_133885</td>\n",
              "      <td>15</td>\n",
              "      <td>4</td>\n",
              "      <td>2JHC</td>\n",
              "      <td>NaN</td>\n",
              "      <td>2</td>\n",
              "      <td>JHC</td>\n",
              "    </tr>\n",
              "    <tr>\n",
              "      <th>7163686</th>\n",
              "      <td>7163686</td>\n",
              "      <td>dsgdb9nsd_133885</td>\n",
              "      <td>15</td>\n",
              "      <td>6</td>\n",
              "      <td>3JHC</td>\n",
              "      <td>NaN</td>\n",
              "      <td>3</td>\n",
              "      <td>JHC</td>\n",
              "    </tr>\n",
              "    <tr>\n",
              "      <th>7163687</th>\n",
              "      <td>7163687</td>\n",
              "      <td>dsgdb9nsd_133885</td>\n",
              "      <td>15</td>\n",
              "      <td>7</td>\n",
              "      <td>2JHC</td>\n",
              "      <td>NaN</td>\n",
              "      <td>2</td>\n",
              "      <td>JHC</td>\n",
              "    </tr>\n",
              "    <tr>\n",
              "      <th>7163688</th>\n",
              "      <td>7163688</td>\n",
              "      <td>dsgdb9nsd_133885</td>\n",
              "      <td>15</td>\n",
              "      <td>8</td>\n",
              "      <td>1JHC</td>\n",
              "      <td>NaN</td>\n",
              "      <td>1</td>\n",
              "      <td>JHC</td>\n",
              "    </tr>\n",
              "  </tbody>\n",
              "</table>\n",
              "</div>"
            ],
            "text/plain": [
              "              id     molecule_name  ...  type_0  type_1\n",
              "7163684  7163684  dsgdb9nsd_133885  ...       2     JHC\n",
              "7163685  7163685  dsgdb9nsd_133885  ...       2     JHC\n",
              "7163686  7163686  dsgdb9nsd_133885  ...       3     JHC\n",
              "7163687  7163687  dsgdb9nsd_133885  ...       2     JHC\n",
              "7163688  7163688  dsgdb9nsd_133885  ...       1     JHC\n",
              "\n",
              "[5 rows x 8 columns]"
            ]
          },
          "metadata": {
            "tags": []
          }
        }
      ]
    },
    {
      "cell_type": "code",
      "metadata": {
        "id": "vXnl5b9XfaDF",
        "colab_type": "code",
        "colab": {}
      },
      "source": [
        "def read_bonds():\n",
        "    train_bond = pd.read_csv(PREPROCESS + 'train_bonds.csv')\n",
        "    test_bond = pd.read_csv(PREPROCESS + 'test_bonds.csv')\n",
        "    \n",
        "    df = pd.concat([train_bond, test_bond], axis=0, ignore_index=True)\n",
        "    df.drop(['Unnamed: 0', 'L2dist'], axis=1, inplace=True)\n",
        "    \n",
        "    return df"
      ],
      "execution_count": 0,
      "outputs": []
    },
    {
      "cell_type": "code",
      "metadata": {
        "id": "wTRMZgvcdQXu",
        "colab_type": "code",
        "outputId": "62dabd5b-fc14-4aaf-8489-83ae6191224a",
        "colab": {
          "base_uri": "https://localhost:8080/",
          "height": 387
        }
      },
      "source": [
        "df_bonds = read_bonds()\n",
        "# df_charges = pd.read_csv(PREPROCESS + 'train_charges.csv')\n",
        "\n",
        "display(df_bonds.head())\n",
        "display(df_bonds.tail())"
      ],
      "execution_count": 0,
      "outputs": [
        {
          "output_type": "display_data",
          "data": {
            "text/html": [
              "<div>\n",
              "<style scoped>\n",
              "    .dataframe tbody tr th:only-of-type {\n",
              "        vertical-align: middle;\n",
              "    }\n",
              "\n",
              "    .dataframe tbody tr th {\n",
              "        vertical-align: top;\n",
              "    }\n",
              "\n",
              "    .dataframe thead th {\n",
              "        text-align: right;\n",
              "    }\n",
              "</style>\n",
              "<table border=\"1\" class=\"dataframe\">\n",
              "  <thead>\n",
              "    <tr style=\"text-align: right;\">\n",
              "      <th></th>\n",
              "      <th>molecule_name</th>\n",
              "      <th>atom_index_0</th>\n",
              "      <th>atom_index_1</th>\n",
              "      <th>nbond</th>\n",
              "      <th>error</th>\n",
              "      <th>bond_type</th>\n",
              "    </tr>\n",
              "  </thead>\n",
              "  <tbody>\n",
              "    <tr>\n",
              "      <th>0</th>\n",
              "      <td>dsgdb9nsd_000001</td>\n",
              "      <td>0</td>\n",
              "      <td>1</td>\n",
              "      <td>1.0</td>\n",
              "      <td>0</td>\n",
              "      <td>1.0CH</td>\n",
              "    </tr>\n",
              "    <tr>\n",
              "      <th>1</th>\n",
              "      <td>dsgdb9nsd_000001</td>\n",
              "      <td>0</td>\n",
              "      <td>2</td>\n",
              "      <td>1.0</td>\n",
              "      <td>0</td>\n",
              "      <td>1.0CH</td>\n",
              "    </tr>\n",
              "    <tr>\n",
              "      <th>2</th>\n",
              "      <td>dsgdb9nsd_000001</td>\n",
              "      <td>0</td>\n",
              "      <td>3</td>\n",
              "      <td>1.0</td>\n",
              "      <td>0</td>\n",
              "      <td>1.0CH</td>\n",
              "    </tr>\n",
              "    <tr>\n",
              "      <th>3</th>\n",
              "      <td>dsgdb9nsd_000001</td>\n",
              "      <td>0</td>\n",
              "      <td>4</td>\n",
              "      <td>1.0</td>\n",
              "      <td>0</td>\n",
              "      <td>1.0CH</td>\n",
              "    </tr>\n",
              "    <tr>\n",
              "      <th>4</th>\n",
              "      <td>dsgdb9nsd_000002</td>\n",
              "      <td>0</td>\n",
              "      <td>1</td>\n",
              "      <td>1.0</td>\n",
              "      <td>0</td>\n",
              "      <td>1.0HN</td>\n",
              "    </tr>\n",
              "  </tbody>\n",
              "</table>\n",
              "</div>"
            ],
            "text/plain": [
              "      molecule_name  atom_index_0  atom_index_1  nbond  error bond_type\n",
              "0  dsgdb9nsd_000001             0             1    1.0      0     1.0CH\n",
              "1  dsgdb9nsd_000001             0             2    1.0      0     1.0CH\n",
              "2  dsgdb9nsd_000001             0             3    1.0      0     1.0CH\n",
              "3  dsgdb9nsd_000001             0             4    1.0      0     1.0CH\n",
              "4  dsgdb9nsd_000002             0             1    1.0      0     1.0HN"
            ]
          },
          "metadata": {
            "tags": []
          }
        },
        {
          "output_type": "display_data",
          "data": {
            "text/html": [
              "<div>\n",
              "<style scoped>\n",
              "    .dataframe tbody tr th:only-of-type {\n",
              "        vertical-align: middle;\n",
              "    }\n",
              "\n",
              "    .dataframe tbody tr th {\n",
              "        vertical-align: top;\n",
              "    }\n",
              "\n",
              "    .dataframe thead th {\n",
              "        text-align: right;\n",
              "    }\n",
              "</style>\n",
              "<table border=\"1\" class=\"dataframe\">\n",
              "  <thead>\n",
              "    <tr style=\"text-align: right;\">\n",
              "      <th></th>\n",
              "      <th>molecule_name</th>\n",
              "      <th>atom_index_0</th>\n",
              "      <th>atom_index_1</th>\n",
              "      <th>nbond</th>\n",
              "      <th>error</th>\n",
              "      <th>bond_type</th>\n",
              "    </tr>\n",
              "  </thead>\n",
              "  <tbody>\n",
              "    <tr>\n",
              "      <th>2439656</th>\n",
              "      <td>dsgdb9nsd_133885</td>\n",
              "      <td>3</td>\n",
              "      <td>8</td>\n",
              "      <td>1.0</td>\n",
              "      <td>0</td>\n",
              "      <td>1.0CC</td>\n",
              "    </tr>\n",
              "    <tr>\n",
              "      <th>2439657</th>\n",
              "      <td>dsgdb9nsd_133885</td>\n",
              "      <td>3</td>\n",
              "      <td>4</td>\n",
              "      <td>1.0</td>\n",
              "      <td>0</td>\n",
              "      <td>1.0CC</td>\n",
              "    </tr>\n",
              "    <tr>\n",
              "      <th>2439658</th>\n",
              "      <td>dsgdb9nsd_133885</td>\n",
              "      <td>4</td>\n",
              "      <td>8</td>\n",
              "      <td>1.0</td>\n",
              "      <td>0</td>\n",
              "      <td>1.0CC</td>\n",
              "    </tr>\n",
              "    <tr>\n",
              "      <th>2439659</th>\n",
              "      <td>dsgdb9nsd_133885</td>\n",
              "      <td>6</td>\n",
              "      <td>7</td>\n",
              "      <td>1.0</td>\n",
              "      <td>0</td>\n",
              "      <td>1.0CC</td>\n",
              "    </tr>\n",
              "    <tr>\n",
              "      <th>2439660</th>\n",
              "      <td>dsgdb9nsd_133885</td>\n",
              "      <td>7</td>\n",
              "      <td>8</td>\n",
              "      <td>1.0</td>\n",
              "      <td>0</td>\n",
              "      <td>1.0CC</td>\n",
              "    </tr>\n",
              "  </tbody>\n",
              "</table>\n",
              "</div>"
            ],
            "text/plain": [
              "            molecule_name  atom_index_0  atom_index_1  nbond  error bond_type\n",
              "2439656  dsgdb9nsd_133885             3             8    1.0      0     1.0CC\n",
              "2439657  dsgdb9nsd_133885             3             4    1.0      0     1.0CC\n",
              "2439658  dsgdb9nsd_133885             4             8    1.0      0     1.0CC\n",
              "2439659  dsgdb9nsd_133885             6             7    1.0      0     1.0CC\n",
              "2439660  dsgdb9nsd_133885             7             8    1.0      0     1.0CC"
            ]
          },
          "metadata": {
            "tags": []
          }
        }
      ]
    },
    {
      "cell_type": "code",
      "metadata": {
        "id": "hb8z6X_NjclP",
        "colab_type": "code",
        "outputId": "e076e115-0025-4c78-ddbb-df4f7a004b10",
        "colab": {
          "base_uri": "https://localhost:8080/",
          "height": 571
        }
      },
      "source": [
        "df_1j = df_all[df_all['type_0'] == 1]\n",
        "display(df_1j.head())\n",
        "\n",
        "df_2j = df_all[df_all['type_0'] == 2]\n",
        "display(df_2j.head())\n",
        "\n",
        "df_3j = df_all[df_all['type_0'] == 3]\n",
        "display(df_3j.head())"
      ],
      "execution_count": 0,
      "outputs": [
        {
          "output_type": "display_data",
          "data": {
            "text/html": [
              "<div>\n",
              "<style scoped>\n",
              "    .dataframe tbody tr th:only-of-type {\n",
              "        vertical-align: middle;\n",
              "    }\n",
              "\n",
              "    .dataframe tbody tr th {\n",
              "        vertical-align: top;\n",
              "    }\n",
              "\n",
              "    .dataframe thead th {\n",
              "        text-align: right;\n",
              "    }\n",
              "</style>\n",
              "<table border=\"1\" class=\"dataframe\">\n",
              "  <thead>\n",
              "    <tr style=\"text-align: right;\">\n",
              "      <th></th>\n",
              "      <th>id</th>\n",
              "      <th>molecule_name</th>\n",
              "      <th>atom_index_0</th>\n",
              "      <th>atom_index_1</th>\n",
              "      <th>type</th>\n",
              "      <th>scalar_coupling_constant</th>\n",
              "      <th>type_0</th>\n",
              "      <th>type_1</th>\n",
              "    </tr>\n",
              "  </thead>\n",
              "  <tbody>\n",
              "    <tr>\n",
              "      <th>0</th>\n",
              "      <td>0</td>\n",
              "      <td>dsgdb9nsd_000001</td>\n",
              "      <td>1</td>\n",
              "      <td>0</td>\n",
              "      <td>1JHC</td>\n",
              "      <td>84.8076</td>\n",
              "      <td>1</td>\n",
              "      <td>JHC</td>\n",
              "    </tr>\n",
              "    <tr>\n",
              "      <th>4</th>\n",
              "      <td>4</td>\n",
              "      <td>dsgdb9nsd_000001</td>\n",
              "      <td>2</td>\n",
              "      <td>0</td>\n",
              "      <td>1JHC</td>\n",
              "      <td>84.8074</td>\n",
              "      <td>1</td>\n",
              "      <td>JHC</td>\n",
              "    </tr>\n",
              "    <tr>\n",
              "      <th>7</th>\n",
              "      <td>7</td>\n",
              "      <td>dsgdb9nsd_000001</td>\n",
              "      <td>3</td>\n",
              "      <td>0</td>\n",
              "      <td>1JHC</td>\n",
              "      <td>84.8093</td>\n",
              "      <td>1</td>\n",
              "      <td>JHC</td>\n",
              "    </tr>\n",
              "    <tr>\n",
              "      <th>9</th>\n",
              "      <td>9</td>\n",
              "      <td>dsgdb9nsd_000001</td>\n",
              "      <td>4</td>\n",
              "      <td>0</td>\n",
              "      <td>1JHC</td>\n",
              "      <td>84.8095</td>\n",
              "      <td>1</td>\n",
              "      <td>JHC</td>\n",
              "    </tr>\n",
              "    <tr>\n",
              "      <th>10</th>\n",
              "      <td>10</td>\n",
              "      <td>dsgdb9nsd_000002</td>\n",
              "      <td>1</td>\n",
              "      <td>0</td>\n",
              "      <td>1JHN</td>\n",
              "      <td>32.6889</td>\n",
              "      <td>1</td>\n",
              "      <td>JHN</td>\n",
              "    </tr>\n",
              "  </tbody>\n",
              "</table>\n",
              "</div>"
            ],
            "text/plain": [
              "    id     molecule_name  atom_index_0  ...  scalar_coupling_constant type_0  type_1\n",
              "0    0  dsgdb9nsd_000001             1  ...                   84.8076      1     JHC\n",
              "4    4  dsgdb9nsd_000001             2  ...                   84.8074      1     JHC\n",
              "7    7  dsgdb9nsd_000001             3  ...                   84.8093      1     JHC\n",
              "9    9  dsgdb9nsd_000001             4  ...                   84.8095      1     JHC\n",
              "10  10  dsgdb9nsd_000002             1  ...                   32.6889      1     JHN\n",
              "\n",
              "[5 rows x 8 columns]"
            ]
          },
          "metadata": {
            "tags": []
          }
        },
        {
          "output_type": "display_data",
          "data": {
            "text/html": [
              "<div>\n",
              "<style scoped>\n",
              "    .dataframe tbody tr th:only-of-type {\n",
              "        vertical-align: middle;\n",
              "    }\n",
              "\n",
              "    .dataframe tbody tr th {\n",
              "        vertical-align: top;\n",
              "    }\n",
              "\n",
              "    .dataframe thead th {\n",
              "        text-align: right;\n",
              "    }\n",
              "</style>\n",
              "<table border=\"1\" class=\"dataframe\">\n",
              "  <thead>\n",
              "    <tr style=\"text-align: right;\">\n",
              "      <th></th>\n",
              "      <th>id</th>\n",
              "      <th>molecule_name</th>\n",
              "      <th>atom_index_0</th>\n",
              "      <th>atom_index_1</th>\n",
              "      <th>type</th>\n",
              "      <th>scalar_coupling_constant</th>\n",
              "      <th>type_0</th>\n",
              "      <th>type_1</th>\n",
              "    </tr>\n",
              "  </thead>\n",
              "  <tbody>\n",
              "    <tr>\n",
              "      <th>1</th>\n",
              "      <td>1</td>\n",
              "      <td>dsgdb9nsd_000001</td>\n",
              "      <td>1</td>\n",
              "      <td>2</td>\n",
              "      <td>2JHH</td>\n",
              "      <td>-11.2570</td>\n",
              "      <td>2</td>\n",
              "      <td>JHH</td>\n",
              "    </tr>\n",
              "    <tr>\n",
              "      <th>2</th>\n",
              "      <td>2</td>\n",
              "      <td>dsgdb9nsd_000001</td>\n",
              "      <td>1</td>\n",
              "      <td>3</td>\n",
              "      <td>2JHH</td>\n",
              "      <td>-11.2548</td>\n",
              "      <td>2</td>\n",
              "      <td>JHH</td>\n",
              "    </tr>\n",
              "    <tr>\n",
              "      <th>3</th>\n",
              "      <td>3</td>\n",
              "      <td>dsgdb9nsd_000001</td>\n",
              "      <td>1</td>\n",
              "      <td>4</td>\n",
              "      <td>2JHH</td>\n",
              "      <td>-11.2543</td>\n",
              "      <td>2</td>\n",
              "      <td>JHH</td>\n",
              "    </tr>\n",
              "    <tr>\n",
              "      <th>5</th>\n",
              "      <td>5</td>\n",
              "      <td>dsgdb9nsd_000001</td>\n",
              "      <td>2</td>\n",
              "      <td>3</td>\n",
              "      <td>2JHH</td>\n",
              "      <td>-11.2541</td>\n",
              "      <td>2</td>\n",
              "      <td>JHH</td>\n",
              "    </tr>\n",
              "    <tr>\n",
              "      <th>6</th>\n",
              "      <td>6</td>\n",
              "      <td>dsgdb9nsd_000001</td>\n",
              "      <td>2</td>\n",
              "      <td>4</td>\n",
              "      <td>2JHH</td>\n",
              "      <td>-11.2548</td>\n",
              "      <td>2</td>\n",
              "      <td>JHH</td>\n",
              "    </tr>\n",
              "  </tbody>\n",
              "</table>\n",
              "</div>"
            ],
            "text/plain": [
              "   id     molecule_name  atom_index_0  ...  scalar_coupling_constant type_0  type_1\n",
              "1   1  dsgdb9nsd_000001             1  ...                  -11.2570      2     JHH\n",
              "2   2  dsgdb9nsd_000001             1  ...                  -11.2548      2     JHH\n",
              "3   3  dsgdb9nsd_000001             1  ...                  -11.2543      2     JHH\n",
              "5   5  dsgdb9nsd_000001             2  ...                  -11.2541      2     JHH\n",
              "6   6  dsgdb9nsd_000001             2  ...                  -11.2548      2     JHH\n",
              "\n",
              "[5 rows x 8 columns]"
            ]
          },
          "metadata": {
            "tags": []
          }
        },
        {
          "output_type": "display_data",
          "data": {
            "text/html": [
              "<div>\n",
              "<style scoped>\n",
              "    .dataframe tbody tr th:only-of-type {\n",
              "        vertical-align: middle;\n",
              "    }\n",
              "\n",
              "    .dataframe tbody tr th {\n",
              "        vertical-align: top;\n",
              "    }\n",
              "\n",
              "    .dataframe thead th {\n",
              "        text-align: right;\n",
              "    }\n",
              "</style>\n",
              "<table border=\"1\" class=\"dataframe\">\n",
              "  <thead>\n",
              "    <tr style=\"text-align: right;\">\n",
              "      <th></th>\n",
              "      <th>id</th>\n",
              "      <th>molecule_name</th>\n",
              "      <th>atom_index_0</th>\n",
              "      <th>atom_index_1</th>\n",
              "      <th>type</th>\n",
              "      <th>scalar_coupling_constant</th>\n",
              "      <th>type_0</th>\n",
              "      <th>type_1</th>\n",
              "    </tr>\n",
              "  </thead>\n",
              "  <tbody>\n",
              "    <tr>\n",
              "      <th>23</th>\n",
              "      <td>23</td>\n",
              "      <td>dsgdb9nsd_000007</td>\n",
              "      <td>2</td>\n",
              "      <td>5</td>\n",
              "      <td>3JHH</td>\n",
              "      <td>3.25281</td>\n",
              "      <td>3</td>\n",
              "      <td>JHH</td>\n",
              "    </tr>\n",
              "    <tr>\n",
              "      <th>24</th>\n",
              "      <td>24</td>\n",
              "      <td>dsgdb9nsd_000007</td>\n",
              "      <td>2</td>\n",
              "      <td>6</td>\n",
              "      <td>3JHH</td>\n",
              "      <td>13.69130</td>\n",
              "      <td>3</td>\n",
              "      <td>JHH</td>\n",
              "    </tr>\n",
              "    <tr>\n",
              "      <th>25</th>\n",
              "      <td>25</td>\n",
              "      <td>dsgdb9nsd_000007</td>\n",
              "      <td>2</td>\n",
              "      <td>7</td>\n",
              "      <td>3JHH</td>\n",
              "      <td>3.25205</td>\n",
              "      <td>3</td>\n",
              "      <td>JHH</td>\n",
              "    </tr>\n",
              "    <tr>\n",
              "      <th>29</th>\n",
              "      <td>29</td>\n",
              "      <td>dsgdb9nsd_000007</td>\n",
              "      <td>3</td>\n",
              "      <td>5</td>\n",
              "      <td>3JHH</td>\n",
              "      <td>13.69240</td>\n",
              "      <td>3</td>\n",
              "      <td>JHH</td>\n",
              "    </tr>\n",
              "    <tr>\n",
              "      <th>30</th>\n",
              "      <td>30</td>\n",
              "      <td>dsgdb9nsd_000007</td>\n",
              "      <td>3</td>\n",
              "      <td>6</td>\n",
              "      <td>3JHH</td>\n",
              "      <td>3.25253</td>\n",
              "      <td>3</td>\n",
              "      <td>JHH</td>\n",
              "    </tr>\n",
              "  </tbody>\n",
              "</table>\n",
              "</div>"
            ],
            "text/plain": [
              "    id     molecule_name  atom_index_0  ...  scalar_coupling_constant type_0  type_1\n",
              "23  23  dsgdb9nsd_000007             2  ...                   3.25281      3     JHH\n",
              "24  24  dsgdb9nsd_000007             2  ...                  13.69130      3     JHH\n",
              "25  25  dsgdb9nsd_000007             2  ...                   3.25205      3     JHH\n",
              "29  29  dsgdb9nsd_000007             3  ...                  13.69240      3     JHH\n",
              "30  30  dsgdb9nsd_000007             3  ...                   3.25253      3     JHH\n",
              "\n",
              "[5 rows x 8 columns]"
            ]
          },
          "metadata": {
            "tags": []
          }
        }
      ]
    },
    {
      "cell_type": "markdown",
      "metadata": {
        "id": "xX5FkcFNT3Wz",
        "colab_type": "text"
      },
      "source": [
        "## get adjacent matrix"
      ]
    },
    {
      "cell_type": "code",
      "metadata": {
        "id": "Ag1UpmectOtr",
        "colab_type": "code",
        "colab": {}
      },
      "source": [
        "def get_adjacent_mat(df):\n",
        "    \"\"\"\n",
        "    Parameters\n",
        "    ----------\n",
        "    df: pd.DataFrame\n",
        "        dataframe of a molecular\n",
        "    \"\"\"    \n",
        "    # edge is bond between atoms\n",
        "    edges = df[['atom_index_0', 'atom_index_1']].values    \n",
        "    edges = edges.transpose(1, 0)\n",
        "    \n",
        "    # the number of bonds\n",
        "    n_bonds = df['nbond'].values\n",
        "    \n",
        "    # the number of nodes may be max of atom index.\n",
        "    n_nodes = edges.max() + 1 \n",
        "    # initialize adjacent matrix\n",
        "    mat = np.zeros((n_nodes, n_nodes), dtype=np.uint8)\n",
        "    \n",
        "    # 1 bond\n",
        "    is_the_bond = (n_bonds == 1)\n",
        "    mat[edges[0][is_the_bond], edges[1][is_the_bond]] = 1\n",
        "    # 2 bond\n",
        "    is_the_bond = (n_bonds == 2)\n",
        "    mat[edges[0][is_the_bond], edges[1][is_the_bond]] = 2\n",
        "    # 3 bond\n",
        "    is_the_bond = (n_bonds == 3)\n",
        "    mat[edges[0][is_the_bond], edges[1][is_the_bond]] = 3\n",
        "    \n",
        "    mat += mat.transpose(1, 0)\n",
        "    \n",
        "    return mat"
      ],
      "execution_count": 0,
      "outputs": []
    },
    {
      "cell_type": "code",
      "metadata": {
        "id": "u3i26Z99UmVg",
        "colab_type": "code",
        "outputId": "100eed92-2afc-46fb-ef77-80be15147e21",
        "colab": {
          "base_uri": "https://localhost:8080/",
          "height": 35
        }
      },
      "source": [
        "groups = df_bonds.head(50).groupby('molecule_name')\n",
        "adj_mat = {g[0]: get_adjacent_mat(g[1])  for g in tqdm(groups)}"
      ],
      "execution_count": 0,
      "outputs": [
        {
          "output_type": "stream",
          "text": [
            "100%|██████████| 11/11 [00:00<00:00, 488.24it/s]\n"
          ],
          "name": "stderr"
        }
      ]
    },
    {
      "cell_type": "code",
      "metadata": {
        "id": "Q-MfJdkOVmvs",
        "colab_type": "code",
        "colab": {}
      },
      "source": [
        "def get_adjacent_mat_old(df):\n",
        "    \"\"\"\n",
        "    Parameters\n",
        "    ----------\n",
        "    df: pd.DataFrame\n",
        "        dataframe of a molecular\n",
        "    \"\"\"\n",
        "    # edge is bond between atoms\n",
        "    edges = df[['atom_index_0', 'atom_index_1']].values    \n",
        "    edges = edges.transpose(1, 0)\n",
        "    \n",
        "    # the number of bonds\n",
        "    n_bonds = df['nbond'].values\n",
        "      \n",
        "    n_nodes = edges.max() + 1 \n",
        "    # adjacent matrix\n",
        "    mat = np.zeros((n_nodes, n_nodes), dtype=np.uint8)\n",
        "    mat[edges[0], edges[1]] = 1\n",
        "    mat += mat.transpose(1, 0)\n",
        "    return mat"
      ],
      "execution_count": 0,
      "outputs": []
    },
    {
      "cell_type": "code",
      "metadata": {
        "id": "a1ubZt5HVXZD",
        "colab_type": "code",
        "outputId": "a18429fc-2ade-416e-e9a7-283635806c25",
        "colab": {
          "base_uri": "https://localhost:8080/",
          "height": 35
        }
      },
      "source": [
        "groups = df_bonds.groupby('molecule_name')\n",
        "# groups.__iter__ returns (name, df_group)\n",
        "adj_mat = {g[0]: get_adjacent_mat(g[1])  for g in tqdm(groups)}\n",
        "adj_mat2 = {name: np.matmul(mat, mat) for name, mat in adj_mat.items()}"
      ],
      "execution_count": 0,
      "outputs": [
        {
          "output_type": "stream",
          "text": [
            "100%|██████████| 130775/130775 [03:27<00:00, 629.60it/s]\n"
          ],
          "name": "stderr"
        }
      ]
    },
    {
      "cell_type": "code",
      "metadata": {
        "id": "0m8EXcSslZB6",
        "colab_type": "code",
        "outputId": "f32361de-fd97-45cf-8364-8f30b9ad2d38",
        "colab": {
          "base_uri": "https://localhost:8080/",
          "height": 35
        }
      },
      "source": [
        "joblib.dump(adj_mat, 'adj_mat.pkl')"
      ],
      "execution_count": 35,
      "outputs": [
        {
          "output_type": "execute_result",
          "data": {
            "text/plain": [
              "['adj_mat.pkl']"
            ]
          },
          "metadata": {
            "tags": []
          },
          "execution_count": 35
        }
      ]
    },
    {
      "cell_type": "code",
      "metadata": {
        "id": "Xn8gub736JGL",
        "colab_type": "code",
        "outputId": "8632a979-d94b-4663-9a33-d5ddfbd752de",
        "colab": {
          "base_uri": "https://localhost:8080/",
          "height": 79
        }
      },
      "source": [
        "display(df_2j[df_2j.index==104493])\n",
        "# print(df_2j.iloc[104493, :])\n",
        "# df_2j[df_2j['molecule_name'] == 'dsgdb9nsd_004015']"
      ],
      "execution_count": 0,
      "outputs": [
        {
          "output_type": "display_data",
          "data": {
            "text/html": [
              "<div>\n",
              "<style scoped>\n",
              "    .dataframe tbody tr th:only-of-type {\n",
              "        vertical-align: middle;\n",
              "    }\n",
              "\n",
              "    .dataframe tbody tr th {\n",
              "        vertical-align: top;\n",
              "    }\n",
              "\n",
              "    .dataframe thead th {\n",
              "        text-align: right;\n",
              "    }\n",
              "</style>\n",
              "<table border=\"1\" class=\"dataframe\">\n",
              "  <thead>\n",
              "    <tr style=\"text-align: right;\">\n",
              "      <th></th>\n",
              "      <th>id</th>\n",
              "      <th>molecule_name</th>\n",
              "      <th>atom_index_0</th>\n",
              "      <th>atom_index_1</th>\n",
              "      <th>type</th>\n",
              "      <th>scalar_coupling_constant</th>\n",
              "      <th>type_0</th>\n",
              "      <th>type_1</th>\n",
              "    </tr>\n",
              "  </thead>\n",
              "  <tbody>\n",
              "    <tr>\n",
              "      <th>104493</th>\n",
              "      <td>104493</td>\n",
              "      <td>dsgdb9nsd_004015</td>\n",
              "      <td>2</td>\n",
              "      <td>4</td>\n",
              "      <td>2JHC</td>\n",
              "      <td>1.03505</td>\n",
              "      <td>2</td>\n",
              "      <td>JHC</td>\n",
              "    </tr>\n",
              "  </tbody>\n",
              "</table>\n",
              "</div>"
            ],
            "text/plain": [
              "            id     molecule_name  ...  type_0  type_1\n",
              "104493  104493  dsgdb9nsd_004015  ...       2     JHC\n",
              "\n",
              "[1 rows x 8 columns]"
            ]
          },
          "metadata": {
            "tags": []
          }
        }
      ]
    },
    {
      "cell_type": "markdown",
      "metadata": {
        "id": "ziWzHW_oyQMA",
        "colab_type": "text"
      },
      "source": [
        "## some features for 1JHC, 1JHN\n",
        "1JHC is correlated with the hybridization of the C-H bonding orbital. sp3 sp2 sp"
      ]
    },
    {
      "cell_type": "code",
      "metadata": {
        "id": "JO2a_kpByUoR",
        "colab_type": "code",
        "outputId": "7caae7e2-5932-4c38-dbad-3dcc88e629cc",
        "colab": {
          "base_uri": "https://localhost:8080/",
          "height": 222
        }
      },
      "source": [
        "def trans_bonds(s, adjacent_matrix):\n",
        "    \"\"\"\n",
        "    Get the number of bonds of C or N from atom index.\n",
        "    \n",
        "    Parameters\n",
        "    ----------\n",
        "    s: pd.Series\n",
        "        s must have 'molecule_name', 'atom_index_1'\n",
        "    adjacent_matrix: dict\n",
        "    \"\"\"\n",
        "    mole_name = s['molecule_name']\n",
        "    idx = s['atom_index_1']\n",
        "    n_bonds = (adjacent_matrix[mole_name][:, idx] > 0).sum()\n",
        "    \n",
        "    return n_bonds\n",
        "\n",
        "def some_1j(df_1j, strct, adjacent_matrix):\n",
        "    # get atom string(e.g., 'C') from atom_index\n",
        "    df_1j = map_atom_info(df_1j, strct, 0)\n",
        "    df_1j = map_atom_info(df_1j, strct, 1)\n",
        "    display(df_1j.head())\n",
        "    \n",
        "    assert (df_1j['atom_1']!='H').sum() == df_1j.shape[0], 'atom_index_1 is not an index column of C or N.'\n",
        "\n",
        "    df_1j['1j_nbonds'] = df_1j[['molecule_name', 'atom_index_1']].apply(trans_bonds, axis=1, adjacent_matrix=adjacent_matrix)\n",
        "    \n",
        "    ret = df_1j[['molecule_name', 'atom_index_0', 'atom_index_1', '1j_nbonds']]\n",
        "    display(ret.head())\n",
        "    return ret"
      ],
      "execution_count": 0,
      "outputs": [
        {
          "output_type": "execute_result",
          "data": {
            "text/html": [
              "<div>\n",
              "<style scoped>\n",
              "    .dataframe tbody tr th:only-of-type {\n",
              "        vertical-align: middle;\n",
              "    }\n",
              "\n",
              "    .dataframe tbody tr th {\n",
              "        vertical-align: top;\n",
              "    }\n",
              "\n",
              "    .dataframe thead th {\n",
              "        text-align: right;\n",
              "    }\n",
              "</style>\n",
              "<table border=\"1\" class=\"dataframe\">\n",
              "  <thead>\n",
              "    <tr style=\"text-align: right;\">\n",
              "      <th></th>\n",
              "      <th>id</th>\n",
              "      <th>molecule_name</th>\n",
              "      <th>atom_index_0</th>\n",
              "      <th>atom_index_1</th>\n",
              "      <th>type</th>\n",
              "      <th>scalar_coupling_constant</th>\n",
              "      <th>type_0</th>\n",
              "      <th>type_1</th>\n",
              "      <th>atom_0</th>\n",
              "      <th>x_0</th>\n",
              "      <th>y_0</th>\n",
              "      <th>z_0</th>\n",
              "      <th>atom_1</th>\n",
              "      <th>x_1</th>\n",
              "      <th>y_1</th>\n",
              "      <th>z_1</th>\n",
              "    </tr>\n",
              "  </thead>\n",
              "  <tbody>\n",
              "    <tr>\n",
              "      <th>0</th>\n",
              "      <td>0</td>\n",
              "      <td>dsgdb9nsd_000001</td>\n",
              "      <td>1</td>\n",
              "      <td>0</td>\n",
              "      <td>1JHC</td>\n",
              "      <td>84.8076</td>\n",
              "      <td>1</td>\n",
              "      <td>JHC</td>\n",
              "      <td>H</td>\n",
              "      <td>0.002150</td>\n",
              "      <td>-0.006031</td>\n",
              "      <td>0.001976</td>\n",
              "      <td>C</td>\n",
              "      <td>-0.012698</td>\n",
              "      <td>1.085804</td>\n",
              "      <td>0.008001</td>\n",
              "    </tr>\n",
              "    <tr>\n",
              "      <th>1</th>\n",
              "      <td>4</td>\n",
              "      <td>dsgdb9nsd_000001</td>\n",
              "      <td>2</td>\n",
              "      <td>0</td>\n",
              "      <td>1JHC</td>\n",
              "      <td>84.8074</td>\n",
              "      <td>1</td>\n",
              "      <td>JHC</td>\n",
              "      <td>H</td>\n",
              "      <td>1.011731</td>\n",
              "      <td>1.463751</td>\n",
              "      <td>0.000277</td>\n",
              "      <td>C</td>\n",
              "      <td>-0.012698</td>\n",
              "      <td>1.085804</td>\n",
              "      <td>0.008001</td>\n",
              "    </tr>\n",
              "    <tr>\n",
              "      <th>2</th>\n",
              "      <td>7</td>\n",
              "      <td>dsgdb9nsd_000001</td>\n",
              "      <td>3</td>\n",
              "      <td>0</td>\n",
              "      <td>1JHC</td>\n",
              "      <td>84.8093</td>\n",
              "      <td>1</td>\n",
              "      <td>JHC</td>\n",
              "      <td>H</td>\n",
              "      <td>-0.540815</td>\n",
              "      <td>1.447527</td>\n",
              "      <td>-0.876644</td>\n",
              "      <td>C</td>\n",
              "      <td>-0.012698</td>\n",
              "      <td>1.085804</td>\n",
              "      <td>0.008001</td>\n",
              "    </tr>\n",
              "    <tr>\n",
              "      <th>3</th>\n",
              "      <td>9</td>\n",
              "      <td>dsgdb9nsd_000001</td>\n",
              "      <td>4</td>\n",
              "      <td>0</td>\n",
              "      <td>1JHC</td>\n",
              "      <td>84.8095</td>\n",
              "      <td>1</td>\n",
              "      <td>JHC</td>\n",
              "      <td>H</td>\n",
              "      <td>-0.523814</td>\n",
              "      <td>1.437933</td>\n",
              "      <td>0.906397</td>\n",
              "      <td>C</td>\n",
              "      <td>-0.012698</td>\n",
              "      <td>1.085804</td>\n",
              "      <td>0.008001</td>\n",
              "    </tr>\n",
              "    <tr>\n",
              "      <th>4</th>\n",
              "      <td>10</td>\n",
              "      <td>dsgdb9nsd_000002</td>\n",
              "      <td>1</td>\n",
              "      <td>0</td>\n",
              "      <td>1JHN</td>\n",
              "      <td>32.6889</td>\n",
              "      <td>1</td>\n",
              "      <td>JHN</td>\n",
              "      <td>H</td>\n",
              "      <td>0.017257</td>\n",
              "      <td>0.012545</td>\n",
              "      <td>-0.027377</td>\n",
              "      <td>N</td>\n",
              "      <td>-0.040426</td>\n",
              "      <td>1.024108</td>\n",
              "      <td>0.062564</td>\n",
              "    </tr>\n",
              "  </tbody>\n",
              "</table>\n",
              "</div>"
            ],
            "text/plain": [
              "   id     molecule_name  atom_index_0  ...       x_1       y_1       z_1\n",
              "0   0  dsgdb9nsd_000001             1  ... -0.012698  1.085804  0.008001\n",
              "1   4  dsgdb9nsd_000001             2  ... -0.012698  1.085804  0.008001\n",
              "2   7  dsgdb9nsd_000001             3  ... -0.012698  1.085804  0.008001\n",
              "3   9  dsgdb9nsd_000001             4  ... -0.012698  1.085804  0.008001\n",
              "4  10  dsgdb9nsd_000002             1  ... -0.040426  1.024108  0.062564\n",
              "\n",
              "[5 rows x 16 columns]"
            ]
          },
          "metadata": {
            "tags": []
          },
          "execution_count": 22
        }
      ]
    },
    {
      "cell_type": "code",
      "metadata": {
        "id": "q57HksIJ0w3_",
        "colab_type": "code",
        "outputId": "7c62deb2-8e43-4dd2-e58c-0f8496e6070d",
        "colab": {
          "base_uri": "https://localhost:8080/",
          "height": 222
        }
      },
      "source": [
        "assert (df_1j['atom_1']!='H').sum() == df_1j.shape[0], 'atom_index_1 is not an index column of C or N.'\n",
        "\n",
        "df_1j.head()\n"
      ],
      "execution_count": 0,
      "outputs": [
        {
          "output_type": "execute_result",
          "data": {
            "text/html": [
              "<div>\n",
              "<style scoped>\n",
              "    .dataframe tbody tr th:only-of-type {\n",
              "        vertical-align: middle;\n",
              "    }\n",
              "\n",
              "    .dataframe tbody tr th {\n",
              "        vertical-align: top;\n",
              "    }\n",
              "\n",
              "    .dataframe thead th {\n",
              "        text-align: right;\n",
              "    }\n",
              "</style>\n",
              "<table border=\"1\" class=\"dataframe\">\n",
              "  <thead>\n",
              "    <tr style=\"text-align: right;\">\n",
              "      <th></th>\n",
              "      <th>id</th>\n",
              "      <th>molecule_name</th>\n",
              "      <th>atom_index_0</th>\n",
              "      <th>atom_index_1</th>\n",
              "      <th>type</th>\n",
              "      <th>scalar_coupling_constant</th>\n",
              "      <th>type_0</th>\n",
              "      <th>type_1</th>\n",
              "      <th>atom_0</th>\n",
              "      <th>x_0</th>\n",
              "      <th>y_0</th>\n",
              "      <th>z_0</th>\n",
              "      <th>atom_1</th>\n",
              "      <th>x_1</th>\n",
              "      <th>y_1</th>\n",
              "      <th>z_1</th>\n",
              "      <th>not_h_index</th>\n",
              "    </tr>\n",
              "  </thead>\n",
              "  <tbody>\n",
              "    <tr>\n",
              "      <th>0</th>\n",
              "      <td>0</td>\n",
              "      <td>dsgdb9nsd_000001</td>\n",
              "      <td>1</td>\n",
              "      <td>0</td>\n",
              "      <td>1JHC</td>\n",
              "      <td>84.8076</td>\n",
              "      <td>1</td>\n",
              "      <td>JHC</td>\n",
              "      <td>H</td>\n",
              "      <td>0.002150</td>\n",
              "      <td>-0.006031</td>\n",
              "      <td>0.001976</td>\n",
              "      <td>C</td>\n",
              "      <td>-0.012698</td>\n",
              "      <td>1.085804</td>\n",
              "      <td>0.008001</td>\n",
              "      <td>0</td>\n",
              "    </tr>\n",
              "    <tr>\n",
              "      <th>1</th>\n",
              "      <td>4</td>\n",
              "      <td>dsgdb9nsd_000001</td>\n",
              "      <td>2</td>\n",
              "      <td>0</td>\n",
              "      <td>1JHC</td>\n",
              "      <td>84.8074</td>\n",
              "      <td>1</td>\n",
              "      <td>JHC</td>\n",
              "      <td>H</td>\n",
              "      <td>1.011731</td>\n",
              "      <td>1.463751</td>\n",
              "      <td>0.000277</td>\n",
              "      <td>C</td>\n",
              "      <td>-0.012698</td>\n",
              "      <td>1.085804</td>\n",
              "      <td>0.008001</td>\n",
              "      <td>0</td>\n",
              "    </tr>\n",
              "    <tr>\n",
              "      <th>2</th>\n",
              "      <td>7</td>\n",
              "      <td>dsgdb9nsd_000001</td>\n",
              "      <td>3</td>\n",
              "      <td>0</td>\n",
              "      <td>1JHC</td>\n",
              "      <td>84.8093</td>\n",
              "      <td>1</td>\n",
              "      <td>JHC</td>\n",
              "      <td>H</td>\n",
              "      <td>-0.540815</td>\n",
              "      <td>1.447527</td>\n",
              "      <td>-0.876644</td>\n",
              "      <td>C</td>\n",
              "      <td>-0.012698</td>\n",
              "      <td>1.085804</td>\n",
              "      <td>0.008001</td>\n",
              "      <td>0</td>\n",
              "    </tr>\n",
              "    <tr>\n",
              "      <th>3</th>\n",
              "      <td>9</td>\n",
              "      <td>dsgdb9nsd_000001</td>\n",
              "      <td>4</td>\n",
              "      <td>0</td>\n",
              "      <td>1JHC</td>\n",
              "      <td>84.8095</td>\n",
              "      <td>1</td>\n",
              "      <td>JHC</td>\n",
              "      <td>H</td>\n",
              "      <td>-0.523814</td>\n",
              "      <td>1.437933</td>\n",
              "      <td>0.906397</td>\n",
              "      <td>C</td>\n",
              "      <td>-0.012698</td>\n",
              "      <td>1.085804</td>\n",
              "      <td>0.008001</td>\n",
              "      <td>0</td>\n",
              "    </tr>\n",
              "    <tr>\n",
              "      <th>4</th>\n",
              "      <td>10</td>\n",
              "      <td>dsgdb9nsd_000002</td>\n",
              "      <td>1</td>\n",
              "      <td>0</td>\n",
              "      <td>1JHN</td>\n",
              "      <td>32.6889</td>\n",
              "      <td>1</td>\n",
              "      <td>JHN</td>\n",
              "      <td>H</td>\n",
              "      <td>0.017257</td>\n",
              "      <td>0.012545</td>\n",
              "      <td>-0.027377</td>\n",
              "      <td>N</td>\n",
              "      <td>-0.040426</td>\n",
              "      <td>1.024108</td>\n",
              "      <td>0.062564</td>\n",
              "      <td>0</td>\n",
              "    </tr>\n",
              "  </tbody>\n",
              "</table>\n",
              "</div>"
            ],
            "text/plain": [
              "   id     molecule_name  atom_index_0  ...       y_1       z_1  not_h_index\n",
              "0   0  dsgdb9nsd_000001             1  ...  1.085804  0.008001            0\n",
              "1   4  dsgdb9nsd_000001             2  ...  1.085804  0.008001            0\n",
              "2   7  dsgdb9nsd_000001             3  ...  1.085804  0.008001            0\n",
              "3   9  dsgdb9nsd_000001             4  ...  1.085804  0.008001            0\n",
              "4  10  dsgdb9nsd_000002             1  ...  1.024108  0.062564            0\n",
              "\n",
              "[5 rows x 17 columns]"
            ]
          },
          "metadata": {
            "tags": []
          },
          "execution_count": 31
        }
      ]
    },
    {
      "cell_type": "code",
      "metadata": {
        "id": "xjBaUFmU3vn8",
        "colab_type": "code",
        "colab": {}
      },
      "source": [
        "def trans_bonds(s, adjacent_matrix):\n",
        "    \"\"\"\n",
        "    Get the number of bonds of C or N from atom index.\n",
        "    \n",
        "    Parameters\n",
        "    ----------\n",
        "    s: pd.Series\n",
        "        s must have 'molecule_name', 'atom_index_1'\n",
        "    adjacent_matrix: dict\n",
        "    \"\"\"\n",
        "    mole_name = s['molecule_name']\n",
        "    idx = s['atom_index_1']\n",
        "    n_bonds = (adjacent_matrix[mole_name][:, idx] > 0).sum()\n",
        "    \n",
        "    return n_bonds\n",
        "\n",
        "df_1j['1j_nbonds'] = df_1j[['molecule_name', 'atom_index_1']].apply(trans_bonds, axis=1, adjacent_matrix=adj_mat)"
      ],
      "execution_count": 0,
      "outputs": []
    },
    {
      "cell_type": "code",
      "metadata": {
        "id": "XmmTuIpn9Nuo",
        "colab_type": "code",
        "colab": {
          "base_uri": "https://localhost:8080/",
          "height": 89
        },
        "outputId": "32a5372d-f8ea-48ba-b92c-814a15221909"
      },
      "source": [
        "df_1j['1j_nbonds'].value_counts()"
      ],
      "execution_count": 45,
      "outputs": [
        {
          "output_type": "execute_result",
          "data": {
            "text/plain": [
              "4    992763\n",
              "3    141458\n",
              "2     23362\n",
              "Name: 1j_nbonds, dtype: int64"
            ]
          },
          "metadata": {
            "tags": []
          },
          "execution_count": 45
        }
      ]
    },
    {
      "cell_type": "code",
      "metadata": {
        "id": "7C35J53c9q8r",
        "colab_type": "code",
        "colab": {
          "base_uri": "https://localhost:8080/",
          "height": 303
        },
        "outputId": "90f9fc62-250a-47eb-fa09-6863f9d0afdc"
      },
      "source": [
        "tmp = df_1j[df_1j['type']=='1JHC']\n",
        "sns.boxplot(x='1j_nbonds', y=TARGET, data=tmp)"
      ],
      "execution_count": 47,
      "outputs": [
        {
          "output_type": "execute_result",
          "data": {
            "text/plain": [
              "<matplotlib.axes._subplots.AxesSubplot at 0x7f578d6b8278>"
            ]
          },
          "metadata": {
            "tags": []
          },
          "execution_count": 47
        },
        {
          "output_type": "display_data",
          "data": {
            "image/png": "[encoded data removed]",
            "text/plain": [
              "<Figure size 432x288 with 1 Axes>"
            ]
          },
          "metadata": {
            "tags": []
          }
        }
      ]
    },
    {
      "cell_type": "code",
      "metadata": {
        "id": "KGfJPFz0_oKc",
        "colab_type": "code",
        "colab": {
          "base_uri": "https://localhost:8080/",
          "height": 35
        },
        "outputId": "6273c635-eb6c-4153-a62d-b358eef2cc73"
      },
      "source": [
        "joblib.dump(df_1j[['molecule_name', 'atom_index_0', 'atom_index_1', '1j_nbonds']], 'df_1j.pkl')"
      ],
      "execution_count": 48,
      "outputs": [
        {
          "output_type": "execute_result",
          "data": {
            "text/plain": [
              "['df_1j.pkl']"
            ]
          },
          "metadata": {
            "tags": []
          },
          "execution_count": 48
        }
      ]
    },
    {
      "cell_type": "markdown",
      "metadata": {
        "id": "sbquLRyAT_3n",
        "colab_type": "text"
      },
      "source": [
        "## get intercept atoms and get some features"
      ]
    },
    {
      "cell_type": "code",
      "metadata": {
        "id": "kHlFBYvSz5J4",
        "colab_type": "code",
        "colab": {}
      },
      "source": [
        "def get_intercept_atom_2j(s, adjacent_matrix):\n",
        "    mole_name, idx0, idx1 = s\n",
        "    \n",
        "    connected_atom0 = adjacent_matrix[mole_name][:, idx0]\n",
        "    connected_atom1 = adjacent_matrix[mole_name][:, idx1]\n",
        "    intercept_atom = np.where(connected_atom0 * connected_atom1 > 0)[0]\n",
        "    if len(intercept_atom) != 1:\n",
        "        return -1\n",
        "        # TODO: bug fix\n",
        "        # raise ValueError('The number of intercept atoms is %d at %s' % (len(intercept_atom), mole_name))\n",
        "    intercept_atom_idx = intercept_atom[0]\n",
        "    # print(intercept_atom_idx)\n",
        "    return intercept_atom_idx\n",
        "\n",
        "def get_intercept_atom_3j(s, adjacent_matrix, adjacent_matrix2):\n",
        "    ret_idx_0 = -1\n",
        "    ret_idx_1 = -1\n",
        "    \n",
        "    mole_name, idx0, idx1 = s\n",
        "    \n",
        "    # atom, that be arrived by 1-path from idx0 and 2-path from idx1\n",
        "    connected_atom0 = adjacent_matrix[mole_name][:, idx0]\n",
        "    connected_atom1 = adjacent_matrix2[mole_name][:, idx1]\n",
        "    # np.where returns (array[], )\n",
        "    intercept_atom = np.where(connected_atom0 * connected_atom1 > 0)[0]    \n",
        "    \n",
        "    if len(intercept_atom) != 1:        \n",
        "        return -1, -1\n",
        "        # TODO: bug fix\n",
        "        # raise ValueError('The number of intercept atoms is %d at %s' % (len(intercept_atom), mole_name))    \n",
        "    else:\n",
        "        ret_idx_0 = intercept_atom[0]\n",
        "    \n",
        "    # atom, that be arrived by 2-path from idx0 and 1-path from idx1\n",
        "    connected_atom0 = adjacent_matrix2[mole_name][:, idx0]\n",
        "    connected_atom1 = adjacent_matrix[mole_name][:, idx1]\n",
        "    # np.where returns (array[], )\n",
        "    intercept_atom = np.where(connected_atom0 * connected_atom1 > 0)[0]\n",
        "    if len(intercept_atom) != 1:        \n",
        "        return -1, -1\n",
        "        # TODO: bug fix\n",
        "        # raise ValueError('The number of intercept atoms is %d at %s' % (len(intercept_atom), mole_name))    \n",
        "    else:\n",
        "        ret_idx_1 = intercept_atom[0]\n",
        "    \n",
        "    return ret_idx_0, ret_idx_1"
      ],
      "execution_count": 0,
      "outputs": []
    },
    {
      "cell_type": "code",
      "metadata": {
        "id": "5wvjUhsxJDNw",
        "colab_type": "code",
        "colab": {}
      },
      "source": [
        "def get_xyz(df, strct, idx_col, xyz_suffix, get_atom_name=False):\n",
        "    \"\"\"\n",
        "    Parameters\n",
        "    ----------\n",
        "    df: pd.DataFrame\n",
        "    stcrt: pd.DataFrame\n",
        "    idx_col: str\n",
        "        column name according to atom_index in df. \n",
        "        e.g. atom_index_0\n",
        "    xyz_suffix: str\n",
        "        suffix to append to 'x', 'y', 'z'\n",
        "        if suffix is '0', create 'x0', 'y0', 'z0'\n",
        "    get_atom_name: bool\n",
        "        whether get 'atom' column\n",
        "    \n",
        "    Returns\n",
        "    -------\n",
        "    ret: pd.DataFrame\n",
        "        shape of [n_samples, 3]. [n_samples, 4] if get_atom_name is True.\n",
        "        e.g. the columns are 'x0', 'y0', 'z0', 'atom0'\n",
        "    \"\"\"\n",
        "    rename_dict = {\n",
        "        'x': 'x'+xyz_suffix, \n",
        "        'y': 'y'+xyz_suffix, \n",
        "        'z': 'z'+xyz_suffix        \n",
        "    }\n",
        "    \n",
        "    if get_atom_name:\n",
        "        atom_col = ['atom']\n",
        "        rename_dict['atom'] = 'atom'+xyz_suffix\n",
        "    else:\n",
        "        atom_col = []\n",
        "        \n",
        "    ret = df[['molecule_name', idx_col]].merge(\n",
        "        strct[['molecule_name', 'atom_index', 'x', 'y', 'z'] + atom_col],\n",
        "        left_on=['molecule_name', idx_col],\n",
        "        right_on=['molecule_name', 'atom_index'],\n",
        "        how='left'\n",
        "    )\\\n",
        "    .drop(['molecule_name', idx_col, 'atom_index'], axis=1)\\\n",
        "    .rename(columns=rename_dict)\n",
        "    \n",
        "    return ret\n",
        "\n",
        "def normalize(x):\n",
        "    \"\"\"\n",
        "    Parameters\n",
        "    ----------\n",
        "    x: np.ndarray\n",
        "    \n",
        "    Returns\n",
        "    -------\n",
        "    norm_vec: np.ndarray, shape of [n_samples, n_features]\n",
        "    norm: np.ndarray, shape of [n_samples, 1]\n",
        "    \"\"\"\n",
        "    norm = np.linalg.norm(x, axis=1, keepdims=True)\n",
        "    return x / norm, norm\n",
        "\n",
        "def get_cos_2j(df, strct):\n",
        "    \"\"\"\n",
        "    Parameters\n",
        "    ----------\n",
        "    df: pd.DataFrame\n",
        "        df must be has `atom_index_0`, `atom_index_1`, `center_index` columns.\n",
        "    \"\"\"\n",
        "    tmp1 = get_xyz(df, df_strct, 'atom_index_0', '0')\n",
        "    tmp2 = get_xyz(df, df_strct, 'atom_index_1', '1')\n",
        "    tmp3 = get_xyz(df, df_strct, 'center_index', '2', get_atom_name=True)    \n",
        "    \n",
        "    # get vector\n",
        "    vec_02 = tmp3[['x2', 'y2', 'z2']].values - tmp1[['x0', 'y0', 'z0']].values\n",
        "    vec_12 = tmp3[['x2', 'y2', 'z2']].values - tmp2[['x1', 'y1', 'z1']].values\n",
        "    \n",
        "    # get area using vector product between two vectors(vec_20 x vec_21)\n",
        "    nvec_021 = np.cross(-vec_02, -vec_12)\n",
        "    _, area_021 = normalize(nvec_021)\n",
        "    \n",
        "    # get l2-normalized vectors\n",
        "    vec_02, norm_vec_02 = normalize(vec_02)\n",
        "    vec_12, norm_vec_12 = normalize(vec_12)\n",
        "    \n",
        "    # cosine similarity\n",
        "    cos_021 = (vec_02 * vec_12).sum(axis=1)\n",
        "    \n",
        "    ret = df[['molecule_name', 'atom_index_0', 'atom_index_1']]\n",
        "    ret['2j_atom_center'] = tmp3['atom2'].values\n",
        "    ret['2j_area_021'] = area_021\n",
        "    ret['2j_norm_vec_02'] = norm_vec_02\n",
        "    ret['2j_norm_vec_12'] = norm_vec_12\n",
        "    ret['2j_cos'] = cos_021\n",
        "    \n",
        "    return ret\n",
        "\n",
        "def get_cos_3j(df, strct):\n",
        "    \"\"\"\n",
        "    Parameters\n",
        "    ----------\n",
        "    df: pd.DataFrame\n",
        "        df must be has `atom_index_0`, `atom_index_1`, `center_index_0`, `center_index_1` columns.\n",
        "    \"\"\"\n",
        "    tmp0 = get_xyz(df, df_strct, 'atom_index_0', '0')\n",
        "    tmp1 = get_xyz(df, df_strct, 'atom_index_1', '1')\n",
        "    tmp2 = get_xyz(df, df_strct, 'center_index_0', '2', get_atom_name=True)\n",
        "    tmp3 = get_xyz(df, df_strct, 'center_index_1', '3', get_atom_name=True)\n",
        "    \n",
        "    # get vector\n",
        "    vec_02 = tmp2[['x2', 'y2', 'z2']].values - tmp0[['x0', 'y0', 'z0']].values\n",
        "    vec_13 = tmp3[['x3', 'y3', 'z3']].values - tmp1[['x1', 'y1', 'z1']].values\n",
        "    vec_23 = tmp3[['x3', 'y3', 'z3']].values - tmp2[['x2', 'y2', 'z2']].values\n",
        "        \n",
        "    # get dihedral\n",
        "    # 1. get two normal vectors of two planes using vector product\n",
        "    # 2. get cos similarity of the normal vectors\n",
        "    # normal vector(vec_20 x vec23)\n",
        "    nvec_023 = np.cross(-vec_02, vec_23)\n",
        "    # normal vector(vec_32 x vec 31)\n",
        "    nvec_231 = np.cross(-vec_23, -vec_13)\n",
        "    # cos similarity\n",
        "    nvec_023, area_023 = normalize(nvec_023)\n",
        "    nvec_231, area_231 = normalize(nvec_231)\n",
        "    dihedral = (nvec_023 * nvec_231).sum(axis=1)\n",
        "    \n",
        "    # get cosine similarity\n",
        "    # get l2-normalized vectors\n",
        "    # get norm \n",
        "    vec_02, norm_vec_02 = normalize(vec_02)\n",
        "    vec_13, norm_vec_13 = normalize(vec_13)\n",
        "    vec_23, norm_vec_23 = normalize(vec_23)\n",
        "    # cosine 0-2-3\n",
        "    cos_023 = (vec_02 * -vec_23).sum(axis=1)\n",
        "    # cosine 2-3-1\n",
        "    cos_231 = (vec_23 * vec_13).sum(axis=1)\n",
        "\n",
        "    \n",
        "    ret = df[['molecule_name', 'atom_index_0', 'atom_index_1']]\n",
        "    ret['3j_atom_center_0'] = tmp2['atom2'].values\n",
        "    ret['3j_atom_center_1'] = tmp3['atom3'].values\n",
        "    ret['3j_norm_vec_02'] = norm_vec_02\n",
        "    ret['3j_norm_vec_13'] = norm_vec_13\n",
        "    ret['3j_norm_vec_23'] = norm_vec_23\n",
        "    ret['3j_cos_023'] = cos_023\n",
        "    ret['3j_cos_231'] = cos_231\n",
        "    ret['3j_area_023'] = area_023\n",
        "    ret['3j_area_231'] = area_231\n",
        "    ret['3j_dihedral'] = dihedral\n",
        "    \n",
        "    return ret"
      ],
      "execution_count": 0,
      "outputs": []
    },
    {
      "cell_type": "code",
      "metadata": {
        "id": "4LKwubVq58Z8",
        "colab_type": "code",
        "outputId": "ddd274c7-28e7-46e2-8dc0-19541d911a8b",
        "colab": {
          "base_uri": "https://localhost:8080/",
          "height": 520
        }
      },
      "source": [
        "\n",
        "df_2j['center_index'] = df_2j[['molecule_name', 'atom_index_0', 'atom_index_1']].apply(get_intercept_atom_2j, adjacent_matrix=adj_mat, axis=1)\n",
        "display(df_2j.head())\n",
        "df_2jsim = get_cos_2j(df_2j, df_strct)\n",
        "df_2jsim.head()\n"
      ],
      "execution_count": 0,
      "outputs": [
        {
          "output_type": "stream",
          "text": [
            "/usr/local/lib/python3.6/dist-packages/ipykernel_launcher.py:2: SettingWithCopyWarning: \n",
            "A value is trying to be set on a copy of a slice from a DataFrame.\n",
            "Try using .loc[row_indexer,col_indexer] = value instead\n",
            "\n",
            "See the caveats in the documentation: http://pandas.pydata.org/pandas-docs/stable/indexing.html#indexing-view-versus-copy\n",
            "  \n"
          ],
          "name": "stderr"
        },
        {
          "output_type": "display_data",
          "data": {
            "text/html": [
              "<div>\n",
              "<style scoped>\n",
              "    .dataframe tbody tr th:only-of-type {\n",
              "        vertical-align: middle;\n",
              "    }\n",
              "\n",
              "    .dataframe tbody tr th {\n",
              "        vertical-align: top;\n",
              "    }\n",
              "\n",
              "    .dataframe thead th {\n",
              "        text-align: right;\n",
              "    }\n",
              "</style>\n",
              "<table border=\"1\" class=\"dataframe\">\n",
              "  <thead>\n",
              "    <tr style=\"text-align: right;\">\n",
              "      <th></th>\n",
              "      <th>id</th>\n",
              "      <th>molecule_name</th>\n",
              "      <th>atom_index_0</th>\n",
              "      <th>atom_index_1</th>\n",
              "      <th>type</th>\n",
              "      <th>scalar_coupling_constant</th>\n",
              "      <th>type_0</th>\n",
              "      <th>type_1</th>\n",
              "      <th>center_index</th>\n",
              "    </tr>\n",
              "  </thead>\n",
              "  <tbody>\n",
              "    <tr>\n",
              "      <th>1</th>\n",
              "      <td>1</td>\n",
              "      <td>dsgdb9nsd_000001</td>\n",
              "      <td>1</td>\n",
              "      <td>2</td>\n",
              "      <td>2JHH</td>\n",
              "      <td>-11.2570</td>\n",
              "      <td>2</td>\n",
              "      <td>JHH</td>\n",
              "      <td>0</td>\n",
              "    </tr>\n",
              "    <tr>\n",
              "      <th>2</th>\n",
              "      <td>2</td>\n",
              "      <td>dsgdb9nsd_000001</td>\n",
              "      <td>1</td>\n",
              "      <td>3</td>\n",
              "      <td>2JHH</td>\n",
              "      <td>-11.2548</td>\n",
              "      <td>2</td>\n",
              "      <td>JHH</td>\n",
              "      <td>0</td>\n",
              "    </tr>\n",
              "    <tr>\n",
              "      <th>3</th>\n",
              "      <td>3</td>\n",
              "      <td>dsgdb9nsd_000001</td>\n",
              "      <td>1</td>\n",
              "      <td>4</td>\n",
              "      <td>2JHH</td>\n",
              "      <td>-11.2543</td>\n",
              "      <td>2</td>\n",
              "      <td>JHH</td>\n",
              "      <td>0</td>\n",
              "    </tr>\n",
              "    <tr>\n",
              "      <th>5</th>\n",
              "      <td>5</td>\n",
              "      <td>dsgdb9nsd_000001</td>\n",
              "      <td>2</td>\n",
              "      <td>3</td>\n",
              "      <td>2JHH</td>\n",
              "      <td>-11.2541</td>\n",
              "      <td>2</td>\n",
              "      <td>JHH</td>\n",
              "      <td>0</td>\n",
              "    </tr>\n",
              "    <tr>\n",
              "      <th>6</th>\n",
              "      <td>6</td>\n",
              "      <td>dsgdb9nsd_000001</td>\n",
              "      <td>2</td>\n",
              "      <td>4</td>\n",
              "      <td>2JHH</td>\n",
              "      <td>-11.2548</td>\n",
              "      <td>2</td>\n",
              "      <td>JHH</td>\n",
              "      <td>0</td>\n",
              "    </tr>\n",
              "  </tbody>\n",
              "</table>\n",
              "</div>"
            ],
            "text/plain": [
              "   id     molecule_name  atom_index_0  ...  type_0 type_1  center_index\n",
              "1   1  dsgdb9nsd_000001             1  ...       2    JHH             0\n",
              "2   2  dsgdb9nsd_000001             1  ...       2    JHH             0\n",
              "3   3  dsgdb9nsd_000001             1  ...       2    JHH             0\n",
              "5   5  dsgdb9nsd_000001             2  ...       2    JHH             0\n",
              "6   6  dsgdb9nsd_000001             2  ...       2    JHH             0\n",
              "\n",
              "[5 rows x 9 columns]"
            ]
          },
          "metadata": {
            "tags": []
          }
        },
        {
          "output_type": "error",
          "ename": "NameError",
          "evalue": "ignored",
          "traceback": [
            "\u001b[0;31m---------------------------------------------------------------------------\u001b[0m",
            "\u001b[0;31mNameError\u001b[0m                                 Traceback (most recent call last)",
            "\u001b[0;32m<ipython-input-20-7cf180661894>\u001b[0m in \u001b[0;36m<module>\u001b[0;34m()\u001b[0m\n\u001b[1;32m      2\u001b[0m \u001b[0mdf_2j\u001b[0m\u001b[0;34m[\u001b[0m\u001b[0;34m'center_index'\u001b[0m\u001b[0;34m]\u001b[0m \u001b[0;34m=\u001b[0m \u001b[0mdf_2j\u001b[0m\u001b[0;34m[\u001b[0m\u001b[0;34m[\u001b[0m\u001b[0;34m'molecule_name'\u001b[0m\u001b[0;34m,\u001b[0m \u001b[0;34m'atom_index_0'\u001b[0m\u001b[0;34m,\u001b[0m \u001b[0;34m'atom_index_1'\u001b[0m\u001b[0;34m]\u001b[0m\u001b[0;34m]\u001b[0m\u001b[0;34m.\u001b[0m\u001b[0mapply\u001b[0m\u001b[0;34m(\u001b[0m\u001b[0mget_intercept_atom_2j\u001b[0m\u001b[0;34m,\u001b[0m \u001b[0madjacent_matrix\u001b[0m\u001b[0;34m=\u001b[0m\u001b[0madj_mat\u001b[0m\u001b[0;34m,\u001b[0m \u001b[0maxis\u001b[0m\u001b[0;34m=\u001b[0m\u001b[0;36m1\u001b[0m\u001b[0;34m)\u001b[0m\u001b[0;34m\u001b[0m\u001b[0;34m\u001b[0m\u001b[0m\n\u001b[1;32m      3\u001b[0m \u001b[0mdisplay\u001b[0m\u001b[0;34m(\u001b[0m\u001b[0mdf_2j\u001b[0m\u001b[0;34m.\u001b[0m\u001b[0mhead\u001b[0m\u001b[0;34m(\u001b[0m\u001b[0;34m)\u001b[0m\u001b[0;34m)\u001b[0m\u001b[0;34m\u001b[0m\u001b[0;34m\u001b[0m\u001b[0m\n\u001b[0;32m----> 4\u001b[0;31m \u001b[0mdf_2jsim\u001b[0m \u001b[0;34m=\u001b[0m \u001b[0mget_cos_2j\u001b[0m\u001b[0;34m(\u001b[0m\u001b[0mdf_2j\u001b[0m\u001b[0;34m,\u001b[0m \u001b[0mdf_strct\u001b[0m\u001b[0;34m)\u001b[0m\u001b[0;34m\u001b[0m\u001b[0;34m\u001b[0m\u001b[0m\n\u001b[0m\u001b[1;32m      5\u001b[0m \u001b[0mdf_2jsim\u001b[0m\u001b[0;34m.\u001b[0m\u001b[0mhead\u001b[0m\u001b[0;34m(\u001b[0m\u001b[0;34m)\u001b[0m\u001b[0;34m\u001b[0m\u001b[0;34m\u001b[0m\u001b[0m\n",
            "\u001b[0;31mNameError\u001b[0m: name 'df_strct' is not defined"
          ]
        }
      ]
    },
    {
      "cell_type": "code",
      "metadata": {
        "id": "Mik3oxgvPEuR",
        "colab_type": "code",
        "outputId": "02e5caf5-a3ec-4de5-9ea6-13dedc31aad8",
        "colab": {
          "base_uri": "https://localhost:8080/",
          "height": 35
        }
      },
      "source": [
        "joblib.dump(df_2jsim, 'df_2jsim.pkl')"
      ],
      "execution_count": 0,
      "outputs": [
        {
          "output_type": "execute_result",
          "data": {
            "text/plain": [
              "['df_2jsim.pkl']"
            ]
          },
          "metadata": {
            "tags": []
          },
          "execution_count": 24
        }
      ]
    },
    {
      "cell_type": "code",
      "metadata": {
        "id": "G8BUbJ8sWW9s",
        "colab_type": "code",
        "outputId": "8878f2d5-0136-44a3-ed62-6b0fbaf3c16d",
        "colab": {
          "base_uri": "https://localhost:8080/",
          "height": 965
        }
      },
      "source": [
        "# tmp = df_3j[['molecule_name', 'atom_index_0', 'atom_index_1']].head(1000)\n",
        "tmp2 = df_3j[['molecule_name', 'atom_index_0', 'atom_index_1']].apply(get_intercept_atom_3j, \n",
        "# tmp2 = tmp.apply(get_intercept_atom_3j, \n",
        "                                                                     adjacent_matrix=adj_mat, \n",
        "                                                                     adjacent_matrix2=adj_mat2, \n",
        "                                                                     axis=1,\n",
        "                                                                     result_type='expand'\n",
        "                                                                     )\n",
        "tmp2.rename(columns={0: 'center_index_0', 1: 'center_index_1'}, inplace=True)\n",
        "df_3j = pd.concat([df_3j, tmp2], axis=1)\n",
        "# tmp = pd.concat([tmp, tmp2], axis=1)\n",
        "display(df_3j.tail())\n",
        "# display(tmp.tail())\n",
        "df_3jsim = get_cos_3j(df_3j, df_strct)\n",
        "# df_3jsim = get_cos_3j(tmp, df_strct)\n",
        "df_3jsim.tail()"
      ],
      "execution_count": 0,
      "outputs": [
        {
          "output_type": "display_data",
          "data": {
            "text/html": [
              "<div>\n",
              "<style scoped>\n",
              "    .dataframe tbody tr th:only-of-type {\n",
              "        vertical-align: middle;\n",
              "    }\n",
              "\n",
              "    .dataframe tbody tr th {\n",
              "        vertical-align: top;\n",
              "    }\n",
              "\n",
              "    .dataframe thead th {\n",
              "        text-align: right;\n",
              "    }\n",
              "</style>\n",
              "<table border=\"1\" class=\"dataframe\">\n",
              "  <thead>\n",
              "    <tr style=\"text-align: right;\">\n",
              "      <th></th>\n",
              "      <th>id</th>\n",
              "      <th>molecule_name</th>\n",
              "      <th>atom_index_0</th>\n",
              "      <th>atom_index_1</th>\n",
              "      <th>type</th>\n",
              "      <th>scalar_coupling_constant</th>\n",
              "      <th>type_0</th>\n",
              "      <th>type_1</th>\n",
              "      <th>center_index_0</th>\n",
              "      <th>center_index_1</th>\n",
              "    </tr>\n",
              "  </thead>\n",
              "  <tbody>\n",
              "    <tr>\n",
              "      <th>7163677</th>\n",
              "      <td>7163677</td>\n",
              "      <td>dsgdb9nsd_133885</td>\n",
              "      <td>14</td>\n",
              "      <td>4</td>\n",
              "      <td>3JHC</td>\n",
              "      <td>NaN</td>\n",
              "      <td>3</td>\n",
              "      <td>JHC</td>\n",
              "      <td>7</td>\n",
              "      <td>8</td>\n",
              "    </tr>\n",
              "    <tr>\n",
              "      <th>7163681</th>\n",
              "      <td>7163681</td>\n",
              "      <td>dsgdb9nsd_133885</td>\n",
              "      <td>14</td>\n",
              "      <td>15</td>\n",
              "      <td>3JHH</td>\n",
              "      <td>NaN</td>\n",
              "      <td>3</td>\n",
              "      <td>JHH</td>\n",
              "      <td>7</td>\n",
              "      <td>8</td>\n",
              "    </tr>\n",
              "    <tr>\n",
              "      <th>7163682</th>\n",
              "      <td>7163682</td>\n",
              "      <td>dsgdb9nsd_133885</td>\n",
              "      <td>15</td>\n",
              "      <td>1</td>\n",
              "      <td>3JHN</td>\n",
              "      <td>NaN</td>\n",
              "      <td>3</td>\n",
              "      <td>JHN</td>\n",
              "      <td>8</td>\n",
              "      <td>7</td>\n",
              "    </tr>\n",
              "    <tr>\n",
              "      <th>7163683</th>\n",
              "      <td>7163683</td>\n",
              "      <td>dsgdb9nsd_133885</td>\n",
              "      <td>15</td>\n",
              "      <td>2</td>\n",
              "      <td>3JHC</td>\n",
              "      <td>NaN</td>\n",
              "      <td>3</td>\n",
              "      <td>JHC</td>\n",
              "      <td>8</td>\n",
              "      <td>3</td>\n",
              "    </tr>\n",
              "    <tr>\n",
              "      <th>7163686</th>\n",
              "      <td>7163686</td>\n",
              "      <td>dsgdb9nsd_133885</td>\n",
              "      <td>15</td>\n",
              "      <td>6</td>\n",
              "      <td>3JHC</td>\n",
              "      <td>NaN</td>\n",
              "      <td>3</td>\n",
              "      <td>JHC</td>\n",
              "      <td>8</td>\n",
              "      <td>7</td>\n",
              "    </tr>\n",
              "  </tbody>\n",
              "</table>\n",
              "</div>"
            ],
            "text/plain": [
              "              id     molecule_name  ...  center_index_0  center_index_1\n",
              "7163677  7163677  dsgdb9nsd_133885  ...               7               8\n",
              "7163681  7163681  dsgdb9nsd_133885  ...               7               8\n",
              "7163682  7163682  dsgdb9nsd_133885  ...               8               7\n",
              "7163683  7163683  dsgdb9nsd_133885  ...               8               3\n",
              "7163686  7163686  dsgdb9nsd_133885  ...               8               7\n",
              "\n",
              "[5 rows x 10 columns]"
            ]
          },
          "metadata": {
            "tags": []
          }
        },
        {
          "output_type": "stream",
          "text": [
            "/usr/local/lib/python3.6/dist-packages/ipykernel_launcher.py:57: RuntimeWarning: invalid value encountered in true_divide\n",
            "/usr/local/lib/python3.6/dist-packages/ipykernel_launcher.py:136: SettingWithCopyWarning: \n",
            "A value is trying to be set on a copy of a slice from a DataFrame.\n",
            "Try using .loc[row_indexer,col_indexer] = value instead\n",
            "\n",
            "See the caveats in the documentation: http://pandas.pydata.org/pandas-docs/stable/indexing.html#indexing-view-versus-copy\n",
            "/usr/local/lib/python3.6/dist-packages/ipykernel_launcher.py:137: SettingWithCopyWarning: \n",
            "A value is trying to be set on a copy of a slice from a DataFrame.\n",
            "Try using .loc[row_indexer,col_indexer] = value instead\n",
            "\n",
            "See the caveats in the documentation: http://pandas.pydata.org/pandas-docs/stable/indexing.html#indexing-view-versus-copy\n",
            "/usr/local/lib/python3.6/dist-packages/ipykernel_launcher.py:138: SettingWithCopyWarning: \n",
            "A value is trying to be set on a copy of a slice from a DataFrame.\n",
            "Try using .loc[row_indexer,col_indexer] = value instead\n",
            "\n",
            "See the caveats in the documentation: http://pandas.pydata.org/pandas-docs/stable/indexing.html#indexing-view-versus-copy\n",
            "/usr/local/lib/python3.6/dist-packages/ipykernel_launcher.py:139: SettingWithCopyWarning: \n",
            "A value is trying to be set on a copy of a slice from a DataFrame.\n",
            "Try using .loc[row_indexer,col_indexer] = value instead\n",
            "\n",
            "See the caveats in the documentation: http://pandas.pydata.org/pandas-docs/stable/indexing.html#indexing-view-versus-copy\n",
            "/usr/local/lib/python3.6/dist-packages/ipykernel_launcher.py:140: SettingWithCopyWarning: \n",
            "A value is trying to be set on a copy of a slice from a DataFrame.\n",
            "Try using .loc[row_indexer,col_indexer] = value instead\n",
            "\n",
            "See the caveats in the documentation: http://pandas.pydata.org/pandas-docs/stable/indexing.html#indexing-view-versus-copy\n",
            "/usr/local/lib/python3.6/dist-packages/ipykernel_launcher.py:141: SettingWithCopyWarning: \n",
            "A value is trying to be set on a copy of a slice from a DataFrame.\n",
            "Try using .loc[row_indexer,col_indexer] = value instead\n",
            "\n",
            "See the caveats in the documentation: http://pandas.pydata.org/pandas-docs/stable/indexing.html#indexing-view-versus-copy\n"
          ],
          "name": "stderr"
        },
        {
          "output_type": "execute_result",
          "data": {
            "text/html": [
              "<div>\n",
              "<style scoped>\n",
              "    .dataframe tbody tr th:only-of-type {\n",
              "        vertical-align: middle;\n",
              "    }\n",
              "\n",
              "    .dataframe tbody tr th {\n",
              "        vertical-align: top;\n",
              "    }\n",
              "\n",
              "    .dataframe thead th {\n",
              "        text-align: right;\n",
              "    }\n",
              "</style>\n",
              "<table border=\"1\" class=\"dataframe\">\n",
              "  <thead>\n",
              "    <tr style=\"text-align: right;\">\n",
              "      <th></th>\n",
              "      <th>molecule_name</th>\n",
              "      <th>atom_index_0</th>\n",
              "      <th>atom_index_1</th>\n",
              "      <th>3j_atom_center_0</th>\n",
              "      <th>3j_atom_center_1</th>\n",
              "      <th>3j_norm_vec_02</th>\n",
              "      <th>3j_norm_vec_13</th>\n",
              "      <th>3j_norm_vec_23</th>\n",
              "      <th>3j_cos_023</th>\n",
              "      <th>3j_cos_231</th>\n",
              "      <th>3j_area_023</th>\n",
              "      <th>3j_area_231</th>\n",
              "      <th>3j_dihedral</th>\n",
              "    </tr>\n",
              "  </thead>\n",
              "  <tbody>\n",
              "    <tr>\n",
              "      <th>7163677</th>\n",
              "      <td>dsgdb9nsd_133885</td>\n",
              "      <td>14</td>\n",
              "      <td>4</td>\n",
              "      <td>C</td>\n",
              "      <td>C</td>\n",
              "      <td>1.088204</td>\n",
              "      <td>1.537739</td>\n",
              "      <td>1.503272</td>\n",
              "      <td>-0.514613</td>\n",
              "      <td>-0.221471</td>\n",
              "      <td>1.402630</td>\n",
              "      <td>2.254236</td>\n",
              "      <td>-0.463228</td>\n",
              "    </tr>\n",
              "    <tr>\n",
              "      <th>7163681</th>\n",
              "      <td>dsgdb9nsd_133885</td>\n",
              "      <td>14</td>\n",
              "      <td>15</td>\n",
              "      <td>C</td>\n",
              "      <td>C</td>\n",
              "      <td>1.088204</td>\n",
              "      <td>1.080482</td>\n",
              "      <td>1.503272</td>\n",
              "      <td>-0.514613</td>\n",
              "      <td>-0.595536</td>\n",
              "      <td>1.402630</td>\n",
              "      <td>1.304814</td>\n",
              "      <td>0.839732</td>\n",
              "    </tr>\n",
              "    <tr>\n",
              "      <th>7163682</th>\n",
              "      <td>dsgdb9nsd_133885</td>\n",
              "      <td>15</td>\n",
              "      <td>1</td>\n",
              "      <td>C</td>\n",
              "      <td>C</td>\n",
              "      <td>1.080482</td>\n",
              "      <td>1.563097</td>\n",
              "      <td>1.503272</td>\n",
              "      <td>-0.595536</td>\n",
              "      <td>-0.437273</td>\n",
              "      <td>1.304814</td>\n",
              "      <td>2.113208</td>\n",
              "      <td>-0.403965</td>\n",
              "    </tr>\n",
              "    <tr>\n",
              "      <th>7163683</th>\n",
              "      <td>dsgdb9nsd_133885</td>\n",
              "      <td>15</td>\n",
              "      <td>2</td>\n",
              "      <td>C</td>\n",
              "      <td>C</td>\n",
              "      <td>1.080482</td>\n",
              "      <td>1.503272</td>\n",
              "      <td>1.519516</td>\n",
              "      <td>-0.563522</td>\n",
              "      <td>-0.177201</td>\n",
              "      <td>1.356301</td>\n",
              "      <td>2.248096</td>\n",
              "      <td>-0.855315</td>\n",
              "    </tr>\n",
              "    <tr>\n",
              "      <th>7163686</th>\n",
              "      <td>dsgdb9nsd_133885</td>\n",
              "      <td>15</td>\n",
              "      <td>6</td>\n",
              "      <td>C</td>\n",
              "      <td>C</td>\n",
              "      <td>1.080482</td>\n",
              "      <td>1.531182</td>\n",
              "      <td>1.503272</td>\n",
              "      <td>-0.595536</td>\n",
              "      <td>-0.137431</td>\n",
              "      <td>1.304814</td>\n",
              "      <td>2.279942</td>\n",
              "      <td>-0.976779</td>\n",
              "    </tr>\n",
              "  </tbody>\n",
              "</table>\n",
              "</div>"
            ],
            "text/plain": [
              "            molecule_name  atom_index_0  ...  3j_area_231 3j_dihedral\n",
              "7163677  dsgdb9nsd_133885            14  ...     2.254236   -0.463228\n",
              "7163681  dsgdb9nsd_133885            14  ...     1.304814    0.839732\n",
              "7163682  dsgdb9nsd_133885            15  ...     2.113208   -0.403965\n",
              "7163683  dsgdb9nsd_133885            15  ...     2.248096   -0.855315\n",
              "7163686  dsgdb9nsd_133885            15  ...     2.279942   -0.976779\n",
              "\n",
              "[5 rows x 13 columns]"
            ]
          },
          "metadata": {
            "tags": []
          },
          "execution_count": 25
        }
      ]
    },
    {
      "cell_type": "code",
      "metadata": {
        "id": "ia_rcc0xQXD0",
        "colab_type": "code",
        "outputId": "f24cbaae-9123-48fb-c3d8-52779ff1a996",
        "colab": {
          "base_uri": "https://localhost:8080/",
          "height": 222
        }
      },
      "source": [
        "df_3jsim.head()"
      ],
      "execution_count": 0,
      "outputs": [
        {
          "output_type": "execute_result",
          "data": {
            "text/html": [
              "<div>\n",
              "<style scoped>\n",
              "    .dataframe tbody tr th:only-of-type {\n",
              "        vertical-align: middle;\n",
              "    }\n",
              "\n",
              "    .dataframe tbody tr th {\n",
              "        vertical-align: top;\n",
              "    }\n",
              "\n",
              "    .dataframe thead th {\n",
              "        text-align: right;\n",
              "    }\n",
              "</style>\n",
              "<table border=\"1\" class=\"dataframe\">\n",
              "  <thead>\n",
              "    <tr style=\"text-align: right;\">\n",
              "      <th></th>\n",
              "      <th>molecule_name</th>\n",
              "      <th>atom_index_0</th>\n",
              "      <th>atom_index_1</th>\n",
              "      <th>3j_atom_center_0</th>\n",
              "      <th>3j_atom_center_1</th>\n",
              "      <th>3j_norm_vec_02</th>\n",
              "      <th>3j_norm_vec_13</th>\n",
              "      <th>3j_norm_vec_23</th>\n",
              "      <th>3j_cos_023</th>\n",
              "      <th>3j_cos_231</th>\n",
              "      <th>3j_area_023</th>\n",
              "      <th>3j_area_231</th>\n",
              "      <th>3j_dihedral</th>\n",
              "    </tr>\n",
              "  </thead>\n",
              "  <tbody>\n",
              "    <tr>\n",
              "      <th>23</th>\n",
              "      <td>dsgdb9nsd_000007</td>\n",
              "      <td>2</td>\n",
              "      <td>5</td>\n",
              "      <td>C</td>\n",
              "      <td>C</td>\n",
              "      <td>1.094954</td>\n",
              "      <td>1.094958</td>\n",
              "      <td>1.529629</td>\n",
              "      <td>-0.365575</td>\n",
              "      <td>-0.365562</td>\n",
              "      <td>1.558941</td>\n",
              "      <td>1.558956</td>\n",
              "      <td>0.499958</td>\n",
              "    </tr>\n",
              "    <tr>\n",
              "      <th>24</th>\n",
              "      <td>dsgdb9nsd_000007</td>\n",
              "      <td>2</td>\n",
              "      <td>6</td>\n",
              "      <td>C</td>\n",
              "      <td>C</td>\n",
              "      <td>1.094954</td>\n",
              "      <td>1.094953</td>\n",
              "      <td>1.529629</td>\n",
              "      <td>-0.365575</td>\n",
              "      <td>-0.365566</td>\n",
              "      <td>1.558941</td>\n",
              "      <td>1.558947</td>\n",
              "      <td>-1.000000</td>\n",
              "    </tr>\n",
              "    <tr>\n",
              "      <th>25</th>\n",
              "      <td>dsgdb9nsd_000007</td>\n",
              "      <td>2</td>\n",
              "      <td>7</td>\n",
              "      <td>C</td>\n",
              "      <td>C</td>\n",
              "      <td>1.094954</td>\n",
              "      <td>1.094968</td>\n",
              "      <td>1.529629</td>\n",
              "      <td>-0.365575</td>\n",
              "      <td>-0.365620</td>\n",
              "      <td>1.558941</td>\n",
              "      <td>1.558931</td>\n",
              "      <td>0.500033</td>\n",
              "    </tr>\n",
              "    <tr>\n",
              "      <th>29</th>\n",
              "      <td>dsgdb9nsd_000007</td>\n",
              "      <td>3</td>\n",
              "      <td>5</td>\n",
              "      <td>C</td>\n",
              "      <td>C</td>\n",
              "      <td>1.094958</td>\n",
              "      <td>1.094958</td>\n",
              "      <td>1.529629</td>\n",
              "      <td>-0.365564</td>\n",
              "      <td>-0.365562</td>\n",
              "      <td>1.558954</td>\n",
              "      <td>1.558956</td>\n",
              "      <td>-1.000000</td>\n",
              "    </tr>\n",
              "    <tr>\n",
              "      <th>30</th>\n",
              "      <td>dsgdb9nsd_000007</td>\n",
              "      <td>3</td>\n",
              "      <td>6</td>\n",
              "      <td>C</td>\n",
              "      <td>C</td>\n",
              "      <td>1.094958</td>\n",
              "      <td>1.094953</td>\n",
              "      <td>1.529629</td>\n",
              "      <td>-0.365564</td>\n",
              "      <td>-0.365566</td>\n",
              "      <td>1.558954</td>\n",
              "      <td>1.558947</td>\n",
              "      <td>0.499932</td>\n",
              "    </tr>\n",
              "  </tbody>\n",
              "</table>\n",
              "</div>"
            ],
            "text/plain": [
              "       molecule_name  atom_index_0  ...  3j_area_231 3j_dihedral\n",
              "23  dsgdb9nsd_000007             2  ...     1.558956    0.499958\n",
              "24  dsgdb9nsd_000007             2  ...     1.558947   -1.000000\n",
              "25  dsgdb9nsd_000007             2  ...     1.558931    0.500033\n",
              "29  dsgdb9nsd_000007             3  ...     1.558956   -1.000000\n",
              "30  dsgdb9nsd_000007             3  ...     1.558947    0.499932\n",
              "\n",
              "[5 rows x 13 columns]"
            ]
          },
          "metadata": {
            "tags": []
          },
          "execution_count": 28
        }
      ]
    },
    {
      "cell_type": "code",
      "metadata": {
        "id": "Qh41HNfIIkMK",
        "colab_type": "code",
        "outputId": "f451974e-7bda-47d5-a7f9-2e2edf0a27ad",
        "colab": {
          "base_uri": "https://localhost:8080/",
          "height": 35
        }
      },
      "source": [
        "joblib.dump(df_3jsim, 'df_3jsim.pkl')"
      ],
      "execution_count": 0,
      "outputs": [
        {
          "output_type": "execute_result",
          "data": {
            "text/plain": [
              "['df_3jsim.pkl']"
            ]
          },
          "metadata": {
            "tags": []
          },
          "execution_count": 26
        }
      ]
    },
    {
      "cell_type": "code",
      "metadata": {
        "id": "mw3ia6Ngyki4",
        "colab_type": "code",
        "colab": {}
      },
      "source": [
        "df_bonds[dtmf_bonds['molecule_name'] == 'dsgdb9nsd_000007']"
      ],
      "execution_count": 0,
      "outputs": []
    },
    {
      "cell_type": "markdown",
      "metadata": {
        "id": "uNa-N1TrUsJS",
        "colab_type": "text"
      },
      "source": [
        "TODO\n",
        "- calculate adjacent matrix^2\n",
        "- "
      ]
    },
    {
      "cell_type": "code",
      "metadata": {
        "id": "0Akq8dIVUsXf",
        "colab_type": "code",
        "colab": {}
      },
      "source": [
        ""
      ],
      "execution_count": 0,
      "outputs": []
    },
    {
      "cell_type": "code",
      "metadata": {
        "id": "FILKo6kCBJFL",
        "colab_type": "code",
        "colab": {}
      },
      "source": [
        "df_2jsim.to_csv('2j_center_atom.csv', index=False)"
      ],
      "execution_count": 0,
      "outputs": []
    },
    {
      "cell_type": "code",
      "metadata": {
        "id": "_d9fEwHKGJk7",
        "colab_type": "code",
        "colab": {}
      },
      "source": [
        "(df_2jsim['sim_2j'].isnull()).sum()"
      ],
      "execution_count": 0,
      "outputs": []
    },
    {
      "cell_type": "code",
      "metadata": {
        "id": "yjmh-4QX_NW8",
        "colab_type": "code",
        "colab": {}
      },
      "source": [
        ""
      ],
      "execution_count": 0,
      "outputs": []
    }
  ]
}